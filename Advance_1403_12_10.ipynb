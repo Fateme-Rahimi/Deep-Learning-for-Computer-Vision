{
  "nbformat": 4,
  "nbformat_minor": 0,
  "metadata": {
    "colab": {
      "provenance": []
    },
    "kernelspec": {
      "name": "python3",
      "display_name": "Python 3"
    },
    "language_info": {
      "name": "python"
    }
  },
  "cells": [
    {
      "cell_type": "markdown",
      "source": [
        "# Second Week"
      ],
      "metadata": {
        "id": "fp6TkJ0X9NNI"
      }
    },
    {
      "cell_type": "code",
      "execution_count": 9,
      "metadata": {
        "id": "VV8GamOg5JdE"
      },
      "outputs": [],
      "source": [
        "import tensorflow as tf"
      ]
    },
    {
      "cell_type": "code",
      "source": [
        "tensor_two_d=tf.constant([[1,-2,0],\n",
        "                          [3,5,100],\n",
        "                          [1,5,6]],dtype=tf.float32)"
      ],
      "metadata": {
        "id": "pX962MVB9cAM"
      },
      "execution_count": 10,
      "outputs": []
    },
    {
      "cell_type": "code",
      "source": [
        "tf.linalg.svd(tensor_two_d)"
      ],
      "metadata": {
        "colab": {
          "base_uri": "https://localhost:8080/"
        },
        "id": "WHYDYNMo9qT0",
        "outputId": "fdbdf930-02da-4d68-b62f-d59b4525aeaa"
      },
      "execution_count": 11,
      "outputs": [
        {
          "output_type": "execute_result",
          "data": {
            "text/plain": [
              "(<tf.Tensor: shape=(3,), dtype=float32, numpy=array([100.3663   ,   5.1059036,   1.2371687], dtype=float32)>,\n",
              " <tf.Tensor: shape=(3, 3), dtype=float32, numpy=\n",
              " array([[-7.4980810e-04, -3.7569830e-01,  9.2674178e-01],\n",
              "        [ 9.9803799e-01, -5.8300879e-02, -2.2827482e-02],\n",
              "        [ 6.2606096e-02,  9.2490643e-01,  3.7500489e-01]], dtype=float32)>,\n",
              " <tf.Tensor: shape=(3, 3), dtype=float32, numpy=\n",
              " array([[ 0.03044816,  0.07330841,  0.99684453],\n",
              "        [ 0.0528536 ,  0.9957936 , -0.07484547],\n",
              "        [ 0.998138  , -0.05496572, -0.02644547]], dtype=float32)>)"
            ]
          },
          "metadata": {},
          "execution_count": 11
        }
      ]
    },
    {
      "cell_type": "code",
      "source": [
        "s , u , v = tf.linalg.svd(tensor_two_d)\n",
        "\n",
        "print(s)"
      ],
      "metadata": {
        "colab": {
          "base_uri": "https://localhost:8080/"
        },
        "id": "uP56SEQv97YL",
        "outputId": "0a869ca6-6928-4049-e51e-0c69e81694fd"
      },
      "execution_count": 12,
      "outputs": [
        {
          "output_type": "stream",
          "name": "stdout",
          "text": [
            "tf.Tensor([100.3663      5.1059036   1.2371687], shape=(3,), dtype=float32)\n"
          ]
        }
      ]
    },
    {
      "cell_type": "code",
      "source": [
        "print(u)"
      ],
      "metadata": {
        "colab": {
          "base_uri": "https://localhost:8080/"
        },
        "id": "QgwBNGgY-C28",
        "outputId": "731259ec-15ff-4d08-c3d3-7de2b8764b52"
      },
      "execution_count": 13,
      "outputs": [
        {
          "output_type": "stream",
          "name": "stdout",
          "text": [
            "tf.Tensor(\n",
            "[[-7.4980810e-04 -3.7569830e-01  9.2674178e-01]\n",
            " [ 9.9803799e-01 -5.8300879e-02 -2.2827482e-02]\n",
            " [ 6.2606096e-02  9.2490643e-01  3.7500489e-01]], shape=(3, 3), dtype=float32)\n"
          ]
        }
      ]
    },
    {
      "cell_type": "code",
      "source": [
        "print(v)"
      ],
      "metadata": {
        "colab": {
          "base_uri": "https://localhost:8080/"
        },
        "id": "tUZNqQja-FYa",
        "outputId": "5824bd5e-596a-4ea2-90d4-b19274f094cd"
      },
      "execution_count": 14,
      "outputs": [
        {
          "output_type": "stream",
          "name": "stdout",
          "text": [
            "tf.Tensor(\n",
            "[[ 0.03044816  0.07330841  0.99684453]\n",
            " [ 0.0528536   0.9957936  -0.07484547]\n",
            " [ 0.998138   -0.05496572 -0.02644547]], shape=(3, 3), dtype=float32)\n"
          ]
        }
      ]
    },
    {
      "cell_type": "code",
      "source": [
        "import numpy as np"
      ],
      "metadata": {
        "id": "IQQbc2l3-G6Q"
      },
      "execution_count": 15,
      "outputs": []
    },
    {
      "cell_type": "code",
      "source": [
        "A=np.array([[2, 6, 5, 2],\n",
        "            [2, -2, 2, 3],\n",
        "            [1, 5, 4, 0]])\n",
        "\n",
        "B=np.array([[2, 9, 0, 3, 0],\n",
        "            [3, 6, 8, -2, 2],\n",
        "            [1, 3, 5, 0, 1],\n",
        "            [3, 0, 2, 0, 5]])\n",
        "\n",
        "print(A.shape)\n",
        "print(B.shape)\n",
        "\n",
        "print(\"\\n Matmul C = \\n\")\n",
        "print(np.matmul(A,B),\"\\n\")"
      ],
      "metadata": {
        "colab": {
          "base_uri": "https://localhost:8080/"
        },
        "id": "Q3C5ONzY-WH_",
        "outputId": "86c4e5f5-1f54-4234-ce3f-67daffdbad6f"
      },
      "execution_count": 20,
      "outputs": [
        {
          "output_type": "stream",
          "name": "stdout",
          "text": [
            "(3, 4)\n",
            "(4, 5)\n",
            "\n",
            " Matmul C = \n",
            "\n",
            "[[33 69 77 -6 27]\n",
            " [ 9 12  0 10 13]\n",
            " [21 51 60 -7 14]] \n",
            "\n"
          ]
        }
      ]
    },
    {
      "cell_type": "code",
      "source": [
        "print (\"Einsum C = \\n\")\n",
        "print(np.einsum('ij,jk -> ik', A,B))\n",
        "# i = row of A - j = column of A and row of B - k = column of B"
      ],
      "metadata": {
        "colab": {
          "base_uri": "https://localhost:8080/"
        },
        "id": "W3ZSCQfL-4my",
        "outputId": "99752e33-a784-49a6-f036-50116e006d97"
      },
      "execution_count": 23,
      "outputs": [
        {
          "output_type": "stream",
          "name": "stdout",
          "text": [
            "Einsum C = \n",
            "\n",
            "[[33 69 77 -6 27]\n",
            " [ 9 12  0 10 13]\n",
            " [21 51 60 -7 14]]\n"
          ]
        }
      ]
    },
    {
      "cell_type": "code",
      "source": [
        "#elementwise\n",
        "A=np.array([[2, 6, 5, 2],\n",
        "            [2, -2, 2, 3],\n",
        "            [1, 5, 4, 0]])\n",
        "\n",
        "B=np.array([[2, 9, 0, 3],\n",
        "            [3, 6, 8, -2],\n",
        "            [1, 3, 5, 0]])\n",
        "\n",
        "print(\"Hardamond C = \\n\")\n",
        "print(A*B, \"\\n\")\n",
        "\n",
        "print (\"Einsum C = \\n\")\n",
        "print(np.einsum('ij,ij ->ij', A,B))"
      ],
      "metadata": {
        "colab": {
          "base_uri": "https://localhost:8080/"
        },
        "id": "4NTvUYUoAqcf",
        "outputId": "e643efd4-b91a-45fa-a489-e1dd6411c2f7"
      },
      "execution_count": 26,
      "outputs": [
        {
          "output_type": "stream",
          "name": "stdout",
          "text": [
            "Hardamond C = \n",
            "\n",
            "[[  4  54   0   6]\n",
            " [  6 -12  16  -6]\n",
            " [  1  15  20   0]] \n",
            "\n",
            "Einsum C = \n",
            "\n",
            "[[  4  54   0   6]\n",
            " [  6 -12  16  -6]\n",
            " [  1  15  20   0]]\n"
          ]
        }
      ]
    },
    {
      "cell_type": "code",
      "source": [
        "A = np.array([[2, 6, 5, 2],\n",
        "              [2, -2, 2, 3],\n",
        "              [1, 5, 4, 0]])\n",
        "\n",
        "print(\"Transposed A = \\n\")\n",
        "print(A.T, \"\\n\")"
      ],
      "metadata": {
        "colab": {
          "base_uri": "https://localhost:8080/"
        },
        "id": "wkaBIvXPBt9z",
        "outputId": "e3cc9ffa-8f95-4110-940a-77fb6674c16b"
      },
      "execution_count": 27,
      "outputs": [
        {
          "output_type": "stream",
          "name": "stdout",
          "text": [
            "Transposed A = \n",
            "\n",
            "[[ 2  2  1]\n",
            " [ 6 -2  5]\n",
            " [ 5  2  4]\n",
            " [ 2  3  0]] \n",
            "\n"
          ]
        }
      ]
    },
    {
      "cell_type": "code",
      "source": [
        "print(\"Einsum Transpoes A = \\n\")\n",
        "print (np.einsum(\"ij -> ji\" ,A))"
      ],
      "metadata": {
        "colab": {
          "base_uri": "https://localhost:8080/"
        },
        "id": "4f02qswACHaa",
        "outputId": "ac4db389-2e4f-498c-a147-3d6c9a7dff04"
      },
      "execution_count": 28,
      "outputs": [
        {
          "output_type": "stream",
          "name": "stdout",
          "text": [
            "Einsum Transpoes A = \n",
            "\n",
            "[[ 2  2  1]\n",
            " [ 6 -2  5]\n",
            " [ 5  2  4]\n",
            " [ 2  3  0]]\n"
          ]
        }
      ]
    },
    {
      "cell_type": "code",
      "source": [
        "A = np.array([\n",
        "                [[2, 6, 5, 2],\n",
        "                 [2, -2, 2, 3],\n",
        "                 [1, 5, 4, 0]],\n",
        "\n",
        "                [[1, 3, 1, 22],\n",
        "                 [0, 2, 2, 0],\n",
        "                 [1, 5, 4, 1]]  ])\n",
        "\n",
        "B = np.array([\n",
        "              [[2, 9, 0, 3, 0],\n",
        "               [3, 6, 8, -2, 2],\n",
        "               [1, 3, 5, 0, 1],\n",
        "               [3, 0, 2, 0, 5]],\n",
        "\n",
        "              [[1, 0, 0, 3, 0],\n",
        "               [3, 0, 4, -2, 2],\n",
        "               [1, 0, 2, 0, 0],\n",
        "               [3, 0, 1, 1, 0]]  ])"
      ],
      "metadata": {
        "id": "_VAUeD1oCqz4"
      },
      "execution_count": 40,
      "outputs": []
    },
    {
      "cell_type": "code",
      "source": [
        "print(A.shape, B.shape)"
      ],
      "metadata": {
        "colab": {
          "base_uri": "https://localhost:8080/"
        },
        "id": "UCsL_gSUDsuo",
        "outputId": "1feb55c3-cabf-49b3-eb40-5d4fe4bab7a8"
      },
      "execution_count": 38,
      "outputs": [
        {
          "output_type": "stream",
          "name": "stdout",
          "text": [
            "(2, 3, 4) (2, 4, 5)\n"
          ]
        }
      ]
    },
    {
      "cell_type": "code",
      "source": [
        "print(\"Batch Multiplication C = \\n\")\n",
        "print(np.matmul(A,B), \"\\n\")"
      ],
      "metadata": {
        "colab": {
          "base_uri": "https://localhost:8080/"
        },
        "id": "jN606h5vD36J",
        "outputId": "77bd39b9-ade0-407e-ff5f-54c17e993b7a"
      },
      "execution_count": 41,
      "outputs": [
        {
          "output_type": "stream",
          "name": "stdout",
          "text": [
            "Batch Multiplication C = \n",
            "\n",
            "[[[33 69 77 -6 27]\n",
            "  [ 9 12  0 10 13]\n",
            "  [21 51 60 -7 14]]\n",
            "\n",
            " [[77  0 36 19  6]\n",
            "  [ 8  0 12 -4  4]\n",
            "  [23  0 29 -6 10]]] \n",
            "\n"
          ]
        }
      ]
    },
    {
      "cell_type": "code",
      "source": [
        "print(\"Einsum C = \\n\")\n",
        "print(np.einsum('bij,bjk -> bik', A,B))"
      ],
      "metadata": {
        "colab": {
          "base_uri": "https://localhost:8080/"
        },
        "id": "83ofJgHHEqHc",
        "outputId": "b895df21-831f-4e81-b9ec-b79e15857e26"
      },
      "execution_count": 42,
      "outputs": [
        {
          "output_type": "stream",
          "name": "stdout",
          "text": [
            "Einsum C = \n",
            "\n",
            "[[[33 69 77 -6 27]\n",
            "  [ 9 12  0 10 13]\n",
            "  [21 51 60 -7 14]]\n",
            "\n",
            " [[77  0 36 19  6]\n",
            "  [ 8  0 12 -4  4]\n",
            "  [23  0 29 -6 10]]]\n"
          ]
        }
      ]
    },
    {
      "cell_type": "code",
      "source": [
        "A = np.array([\n",
        "                [[2, 6, 5, 2],\n",
        "                 [2, -2, 2, 3],\n",
        "                 [1, 5, 4, 0]],\n",
        "\n",
        "                [[1, 3, 1, 22],\n",
        "                 [0, 2, 2, 0],\n",
        "                 [1, 5, 4, 1]] ])"
      ],
      "metadata": {
        "id": "N-scbD1oFOlV"
      },
      "execution_count": 44,
      "outputs": []
    },
    {
      "cell_type": "code",
      "source": [
        "print(\"Sum A = \\n\")\n",
        "print(np.sum(A), \"\\n\")"
      ],
      "metadata": {
        "colab": {
          "base_uri": "https://localhost:8080/"
        },
        "id": "DysmNmvTF7xX",
        "outputId": "bb8435db-5aaa-46f2-b4ff-4af36099ee41"
      },
      "execution_count": 45,
      "outputs": [
        {
          "output_type": "stream",
          "name": "stdout",
          "text": [
            "Sum A = \n",
            "\n",
            "72 \n",
            "\n"
          ]
        }
      ]
    },
    {
      "cell_type": "code",
      "source": [
        "print (\"Einsum A = \\n\")\n",
        "print(np.einsum('bij ->', A))"
      ],
      "metadata": {
        "colab": {
          "base_uri": "https://localhost:8080/"
        },
        "id": "DrTAKAOpGHgS",
        "outputId": "ab043b4f-c4d8-4130-938f-9c76bf92b671"
      },
      "execution_count": 46,
      "outputs": [
        {
          "output_type": "stream",
          "name": "stdout",
          "text": [
            "Einsum A = \n",
            "\n",
            "72\n"
          ]
        }
      ]
    },
    {
      "cell_type": "code",
      "source": [
        "A=np.array(\n",
        "            [[2, 6, 5, 2],\n",
        "             [2, -2, 2, 3],\n",
        "             [1, 5, 4, 0]])\n",
        "\n",
        "print(\"Axis 0 Sum A =  \\n\")\n",
        "print(np.sum(A, axis = 0), \"\\n\")\n",
        "\n",
        "print(\"Einsum A = \\n\")\n",
        "print(np.einsum('ij -> j', A), \"\\n\")\n",
        "print(\"-------------------- \\n\")\n",
        "\n",
        "print(\"Axis 1 Sum A = \\n\")\n",
        "print(np.sum(A, axis = 1), \"\\n\")\n",
        "\n",
        "print(\"Einsum A = \\n\")\n",
        "print(np.einsum('ij -> i', A))"
      ],
      "metadata": {
        "colab": {
          "base_uri": "https://localhost:8080/"
        },
        "id": "T4KTaGC_GRH8",
        "outputId": "f9bc6551-9459-44e3-bcce-039851fd4c20"
      },
      "execution_count": 49,
      "outputs": [
        {
          "output_type": "stream",
          "name": "stdout",
          "text": [
            "Axis 0 Sum A =  \n",
            "\n",
            "[ 5  9 11  5] \n",
            "\n",
            "Einsum A = \n",
            "\n",
            "[ 5  9 11  5] \n",
            "\n",
            "-------------------- \n",
            "\n",
            "Axis 1 Sum A = \n",
            "\n",
            "[15  5 10] \n",
            "\n",
            "Einsum A = \n",
            "\n",
            "[15  5 10]\n"
          ]
        }
      ]
    },
    {
      "cell_type": "code",
      "source": [
        "Q = np.random.randn(32, 64, 512)\n",
        "K = np.random.randn(32, 128, 512)"
      ],
      "metadata": {
        "id": "leqdpDEHHXDs"
      },
      "execution_count": 54,
      "outputs": []
    },
    {
      "cell_type": "code",
      "source": [
        "np.einsum('bqm, bkm -> bqk', Q, K).shape"
      ],
      "metadata": {
        "colab": {
          "base_uri": "https://localhost:8080/"
        },
        "id": "BZW62BnKJozM",
        "outputId": "7b1395db-cd03-4a0b-9e9a-bafb31767ba7"
      },
      "execution_count": 55,
      "outputs": [
        {
          "output_type": "execute_result",
          "data": {
            "text/plain": [
              "(32, 64, 128)"
            ]
          },
          "metadata": {},
          "execution_count": 55
        }
      ]
    },
    {
      "cell_type": "code",
      "source": [
        "A = np.random.randn(2, 4, 4, 2)\n",
        "B = np.random.randn(2, 4, 4, 1)"
      ],
      "metadata": {
        "id": "lCqVTaAdKJxu"
      },
      "execution_count": 56,
      "outputs": []
    },
    {
      "cell_type": "code",
      "source": [
        "np.einsum(\"bcik, bcij -> bckj\", B, A).shape"
      ],
      "metadata": {
        "colab": {
          "base_uri": "https://localhost:8080/"
        },
        "id": "6Sm48A2hH13d",
        "outputId": "2d3e122c-cbe6-463a-9b9c-57e957fd2b4a"
      },
      "execution_count": 57,
      "outputs": [
        {
          "output_type": "execute_result",
          "data": {
            "text/plain": [
              "(2, 4, 1, 2)"
            ]
          },
          "metadata": {},
          "execution_count": 57
        }
      ]
    },
    {
      "cell_type": "code",
      "source": [
        "np.matmul(np.transpose(B, (0, 1, 3, 2)), A).shape"
      ],
      "metadata": {
        "colab": {
          "base_uri": "https://localhost:8080/"
        },
        "id": "n9D1FgOhKbvB",
        "outputId": "39427239-1c9e-432d-e193-2ee20525fb32"
      },
      "execution_count": 60,
      "outputs": [
        {
          "output_type": "execute_result",
          "data": {
            "text/plain": [
              "(2, 4, 1, 2)"
            ]
          },
          "metadata": {},
          "execution_count": 60
        }
      ]
    },
    {
      "cell_type": "code",
      "source": [
        "np.einsum(\"bcik, bcij -> bckj\", B, A)"
      ],
      "metadata": {
        "colab": {
          "base_uri": "https://localhost:8080/"
        },
        "id": "-_JL4T0YLB8O",
        "outputId": "45692e99-8af8-4f86-d206-70bca9bcea92"
      },
      "execution_count": 61,
      "outputs": [
        {
          "output_type": "execute_result",
          "data": {
            "text/plain": [
              "array([[[[-1.01594167,  0.84221121]],\n",
              "\n",
              "        [[ 0.23553147,  3.3543091 ]],\n",
              "\n",
              "        [[ 1.60388027, -0.71519461]],\n",
              "\n",
              "        [[-1.82185733, -1.7761812 ]]],\n",
              "\n",
              "\n",
              "       [[[-0.09728071, -0.35937421]],\n",
              "\n",
              "        [[-2.14018125,  2.25213099]],\n",
              "\n",
              "        [[ 1.2298231 ,  0.29852832]],\n",
              "\n",
              "        [[ 0.63622659, -2.36621661]]]])"
            ]
          },
          "metadata": {},
          "execution_count": 61
        }
      ]
    },
    {
      "cell_type": "code",
      "source": [
        "np.matmul(np.transpose(B, (0, 1, 3, 2)), A)"
      ],
      "metadata": {
        "colab": {
          "base_uri": "https://localhost:8080/"
        },
        "id": "OyqZeaP4K4FN",
        "outputId": "3331af2c-0e0e-4900-8e4d-0a4f6b682441"
      },
      "execution_count": 62,
      "outputs": [
        {
          "output_type": "execute_result",
          "data": {
            "text/plain": [
              "array([[[[-1.01594167,  0.84221121]],\n",
              "\n",
              "        [[ 0.23553147,  3.3543091 ]],\n",
              "\n",
              "        [[ 1.60388027, -0.71519461]],\n",
              "\n",
              "        [[-1.82185733, -1.7761812 ]]],\n",
              "\n",
              "\n",
              "       [[[-0.09728071, -0.35937421]],\n",
              "\n",
              "        [[-2.14018125,  2.25213099]],\n",
              "\n",
              "        [[ 1.2298231 ,  0.29852832]],\n",
              "\n",
              "        [[ 0.63622659, -2.36621661]]]])"
            ]
          },
          "metadata": {},
          "execution_count": 62
        }
      ]
    },
    {
      "cell_type": "code",
      "source": [
        "A = np.random.randn(2, 4, 6, 4, 2)\n",
        "B = np.random.randn(2, 4, 6, 4, 1)"
      ],
      "metadata": {
        "id": "oGS0iTEALKKv"
      },
      "execution_count": 63,
      "outputs": []
    },
    {
      "cell_type": "code",
      "source": [
        "np.einsum(\"bcdik, bcdij -> bcdkj\", B, A)"
      ],
      "metadata": {
        "colab": {
          "base_uri": "https://localhost:8080/"
        },
        "id": "HvPKulruLmFn",
        "outputId": "eaa69c57-a871-44ce-ff2b-7e2074e464ac"
      },
      "execution_count": 65,
      "outputs": [
        {
          "output_type": "execute_result",
          "data": {
            "text/plain": [
              "array([[[[[-1.22760871, -2.57735801]],\n",
              "\n",
              "         [[-0.48806887,  3.20079249]],\n",
              "\n",
              "         [[-1.50432574, -1.35293603]],\n",
              "\n",
              "         [[-1.02125981, -0.63585535]],\n",
              "\n",
              "         [[ 1.68645838,  0.27346567]],\n",
              "\n",
              "         [[-0.15751007,  0.47074303]]],\n",
              "\n",
              "\n",
              "        [[[-0.23604267, -2.64516651]],\n",
              "\n",
              "         [[ 0.79483998, -2.09118609]],\n",
              "\n",
              "         [[-5.16811836,  4.10644785]],\n",
              "\n",
              "         [[-0.30516782,  0.86225903]],\n",
              "\n",
              "         [[ 2.71047956,  1.4020438 ]],\n",
              "\n",
              "         [[-2.57307734, -1.78142173]]],\n",
              "\n",
              "\n",
              "        [[[-2.79698772, -2.10979996]],\n",
              "\n",
              "         [[ 1.55632805,  3.64281408]],\n",
              "\n",
              "         [[ 1.93651203, -0.32220071]],\n",
              "\n",
              "         [[ 3.04838055,  0.45981145]],\n",
              "\n",
              "         [[ 1.27824618, -2.57580147]],\n",
              "\n",
              "         [[ 2.24501674,  1.30724665]]],\n",
              "\n",
              "\n",
              "        [[[ 1.2817106 ,  1.52077812]],\n",
              "\n",
              "         [[ 0.96029671,  1.43065052]],\n",
              "\n",
              "         [[-1.06044848,  3.05049714]],\n",
              "\n",
              "         [[-0.9550901 , -3.55919176]],\n",
              "\n",
              "         [[ 1.29259535,  0.70769369]],\n",
              "\n",
              "         [[-0.52049992, -0.47499491]]]],\n",
              "\n",
              "\n",
              "\n",
              "       [[[[ 2.49092493,  2.85578743]],\n",
              "\n",
              "         [[ 0.03186618,  0.70408914]],\n",
              "\n",
              "         [[-0.34368029,  0.46193084]],\n",
              "\n",
              "         [[ 2.17248518, -2.3038822 ]],\n",
              "\n",
              "         [[-5.06588701,  0.77440215]],\n",
              "\n",
              "         [[ 0.71477264,  3.27072635]]],\n",
              "\n",
              "\n",
              "        [[[-0.04506744,  1.48697521]],\n",
              "\n",
              "         [[ 0.58169926,  1.37261635]],\n",
              "\n",
              "         [[ 1.08444413,  0.07584581]],\n",
              "\n",
              "         [[ 1.52795583, -1.00925796]],\n",
              "\n",
              "         [[ 1.6580973 , -0.01880362]],\n",
              "\n",
              "         [[ 0.24323292, -0.21413239]]],\n",
              "\n",
              "\n",
              "        [[[ 4.14192833,  1.33037285]],\n",
              "\n",
              "         [[-0.6999963 , -1.47258262]],\n",
              "\n",
              "         [[-0.28415305, -0.17365466]],\n",
              "\n",
              "         [[ 1.69666875, -5.62745345]],\n",
              "\n",
              "         [[ 3.85844855,  2.08626979]],\n",
              "\n",
              "         [[ 3.23830217,  0.07381871]]],\n",
              "\n",
              "\n",
              "        [[[-2.04629582,  0.33778257]],\n",
              "\n",
              "         [[ 0.3541334 , -0.39778253]],\n",
              "\n",
              "         [[-0.68879495, -2.14295293]],\n",
              "\n",
              "         [[-2.05348645,  4.39618306]],\n",
              "\n",
              "         [[-2.58729362,  3.99341088]],\n",
              "\n",
              "         [[-2.99511462, -1.94032043]]]]])"
            ]
          },
          "metadata": {},
          "execution_count": 65
        }
      ]
    },
    {
      "cell_type": "code",
      "source": [
        "np.einsum(\"bcdik, bcdij -> bcdkj\", B, A).shape"
      ],
      "metadata": {
        "colab": {
          "base_uri": "https://localhost:8080/"
        },
        "id": "bGeYCymVLWFm",
        "outputId": "3590d4fa-307c-470a-ad44-913f3aed7897"
      },
      "execution_count": 66,
      "outputs": [
        {
          "output_type": "execute_result",
          "data": {
            "text/plain": [
              "(2, 4, 6, 1, 2)"
            ]
          },
          "metadata": {},
          "execution_count": 66
        }
      ]
    },
    {
      "cell_type": "code",
      "source": [
        "np.matmul(np.transpose(B, (0, 1, 2, 4, 3)), A)"
      ],
      "metadata": {
        "colab": {
          "base_uri": "https://localhost:8080/"
        },
        "id": "1Me7dUZ8Lp6N",
        "outputId": "365e71c0-183b-4c46-efe1-6103a9029dd5"
      },
      "execution_count": 67,
      "outputs": [
        {
          "output_type": "execute_result",
          "data": {
            "text/plain": [
              "array([[[[[-1.22760871, -2.57735801]],\n",
              "\n",
              "         [[-0.48806887,  3.20079249]],\n",
              "\n",
              "         [[-1.50432574, -1.35293603]],\n",
              "\n",
              "         [[-1.02125981, -0.63585535]],\n",
              "\n",
              "         [[ 1.68645838,  0.27346567]],\n",
              "\n",
              "         [[-0.15751007,  0.47074303]]],\n",
              "\n",
              "\n",
              "        [[[-0.23604267, -2.64516651]],\n",
              "\n",
              "         [[ 0.79483998, -2.09118609]],\n",
              "\n",
              "         [[-5.16811836,  4.10644785]],\n",
              "\n",
              "         [[-0.30516782,  0.86225903]],\n",
              "\n",
              "         [[ 2.71047956,  1.4020438 ]],\n",
              "\n",
              "         [[-2.57307734, -1.78142173]]],\n",
              "\n",
              "\n",
              "        [[[-2.79698772, -2.10979996]],\n",
              "\n",
              "         [[ 1.55632805,  3.64281408]],\n",
              "\n",
              "         [[ 1.93651203, -0.32220071]],\n",
              "\n",
              "         [[ 3.04838055,  0.45981145]],\n",
              "\n",
              "         [[ 1.27824618, -2.57580147]],\n",
              "\n",
              "         [[ 2.24501674,  1.30724665]]],\n",
              "\n",
              "\n",
              "        [[[ 1.2817106 ,  1.52077812]],\n",
              "\n",
              "         [[ 0.96029671,  1.43065052]],\n",
              "\n",
              "         [[-1.06044848,  3.05049714]],\n",
              "\n",
              "         [[-0.9550901 , -3.55919176]],\n",
              "\n",
              "         [[ 1.29259535,  0.70769369]],\n",
              "\n",
              "         [[-0.52049992, -0.47499491]]]],\n",
              "\n",
              "\n",
              "\n",
              "       [[[[ 2.49092493,  2.85578743]],\n",
              "\n",
              "         [[ 0.03186618,  0.70408914]],\n",
              "\n",
              "         [[-0.34368029,  0.46193084]],\n",
              "\n",
              "         [[ 2.17248518, -2.3038822 ]],\n",
              "\n",
              "         [[-5.06588701,  0.77440215]],\n",
              "\n",
              "         [[ 0.71477264,  3.27072635]]],\n",
              "\n",
              "\n",
              "        [[[-0.04506744,  1.48697521]],\n",
              "\n",
              "         [[ 0.58169926,  1.37261635]],\n",
              "\n",
              "         [[ 1.08444413,  0.07584581]],\n",
              "\n",
              "         [[ 1.52795583, -1.00925796]],\n",
              "\n",
              "         [[ 1.6580973 , -0.01880362]],\n",
              "\n",
              "         [[ 0.24323292, -0.21413239]]],\n",
              "\n",
              "\n",
              "        [[[ 4.14192833,  1.33037285]],\n",
              "\n",
              "         [[-0.6999963 , -1.47258262]],\n",
              "\n",
              "         [[-0.28415305, -0.17365466]],\n",
              "\n",
              "         [[ 1.69666875, -5.62745345]],\n",
              "\n",
              "         [[ 3.85844855,  2.08626979]],\n",
              "\n",
              "         [[ 3.23830217,  0.07381871]]],\n",
              "\n",
              "\n",
              "        [[[-2.04629582,  0.33778257]],\n",
              "\n",
              "         [[ 0.3541334 , -0.39778253]],\n",
              "\n",
              "         [[-0.68879495, -2.14295293]],\n",
              "\n",
              "         [[-2.05348645,  4.39618306]],\n",
              "\n",
              "         [[-2.58729362,  3.99341088]],\n",
              "\n",
              "         [[-2.99511462, -1.94032043]]]]])"
            ]
          },
          "metadata": {},
          "execution_count": 67
        }
      ]
    },
    {
      "cell_type": "code",
      "source": [
        "np.matmul(np.transpose(B, (0, 1, 2, 4, 3)), A).shape"
      ],
      "metadata": {
        "colab": {
          "base_uri": "https://localhost:8080/"
        },
        "id": "B_NfOADvMEKV",
        "outputId": "01e8a218-fbcf-4c84-c285-c6c75d3c6904"
      },
      "execution_count": 68,
      "outputs": [
        {
          "output_type": "execute_result",
          "data": {
            "text/plain": [
              "(2, 4, 6, 1, 2)"
            ]
          },
          "metadata": {},
          "execution_count": 68
        }
      ]
    },
    {
      "cell_type": "code",
      "source": [
        "tensor_three_d=tf.constant([[[1, 2, 0],\n",
        "                             [3, 5, -1]],\n",
        "\n",
        "                             [[10, 2, 0],\n",
        "                             [1, 0, 2]],\n",
        "\n",
        "                             [[5, 8, 0],\n",
        "                             [2, 7, 0]],\n",
        "\n",
        "                             [[2, 1, 9],\n",
        "                             [4, -3, 32]]])\n",
        "print(tensor_three_d.shape)"
      ],
      "metadata": {
        "colab": {
          "base_uri": "https://localhost:8080/"
        },
        "id": "IhdFFhDqMLw7",
        "outputId": "47c01867-6782-4121-d580-57bc0c06b3d6"
      },
      "execution_count": 71,
      "outputs": [
        {
          "output_type": "stream",
          "name": "stdout",
          "text": [
            "(4, 2, 3)\n"
          ]
        }
      ]
    },
    {
      "cell_type": "code",
      "source": [
        "print(tf.expand_dims(tensor_three_d, axis = 0).shape)"
      ],
      "metadata": {
        "colab": {
          "base_uri": "https://localhost:8080/"
        },
        "id": "Uf_qz3q-NKuG",
        "outputId": "96c35cee-5759-4d11-c0ab-ac03e96b695c"
      },
      "execution_count": 73,
      "outputs": [
        {
          "output_type": "stream",
          "name": "stdout",
          "text": [
            "(1, 4, 2, 3)\n"
          ]
        }
      ]
    },
    {
      "cell_type": "code",
      "source": [
        "x = tf.constant([2, 3, 4, 5])\n",
        "print(x.shape)\n",
        "print(tf.expand_dims(x, axis = 0).shape)"
      ],
      "metadata": {
        "colab": {
          "base_uri": "https://localhost:8080/"
        },
        "id": "r51CPDBaNwuX",
        "outputId": "f17282f5-4a02-4364-e58c-e26398055725"
      },
      "execution_count": 76,
      "outputs": [
        {
          "output_type": "stream",
          "name": "stdout",
          "text": [
            "(4,)\n",
            "(1, 4)\n"
          ]
        }
      ]
    },
    {
      "cell_type": "code",
      "source": [
        "x = tf.constant([[2, 3, 4, 5]])\n",
        "print(x.shape)\n",
        "print(tf.expand_dims(x, axis = 0).shape)"
      ],
      "metadata": {
        "colab": {
          "base_uri": "https://localhost:8080/"
        },
        "id": "ZCQzepJqOGj0",
        "outputId": "be9973cc-1412-427f-b247-16c65359b586"
      },
      "execution_count": 77,
      "outputs": [
        {
          "output_type": "stream",
          "name": "stdout",
          "text": [
            "(1, 4)\n",
            "(1, 1, 4)\n"
          ]
        }
      ]
    },
    {
      "cell_type": "code",
      "source": [
        "x = tf.constant([[[2, 3, 4, 5]]])\n",
        "print(x.shape)\n",
        "print(tf.expand_dims(x, axis = 0).shape)"
      ],
      "metadata": {
        "colab": {
          "base_uri": "https://localhost:8080/"
        },
        "id": "nltNjqbcOLzB",
        "outputId": "dc9c27d7-283a-4bbb-e04b-7f5f35732088"
      },
      "execution_count": 78,
      "outputs": [
        {
          "output_type": "stream",
          "name": "stdout",
          "text": [
            "(1, 1, 4)\n",
            "(1, 1, 1, 4)\n"
          ]
        }
      ]
    },
    {
      "cell_type": "code",
      "source": [
        "print(tensor_three_d.shape)\n",
        "print(tf.expand_dims(tensor_three_d, axis = 3).shape)"
      ],
      "metadata": {
        "colab": {
          "base_uri": "https://localhost:8080/"
        },
        "id": "52tTQ2rpOjBL",
        "outputId": "55eccf96-abc8-4810-af04-7aba5457ea67"
      },
      "execution_count": 80,
      "outputs": [
        {
          "output_type": "stream",
          "name": "stdout",
          "text": [
            "(4, 2, 3)\n",
            "(4, 2, 3, 1)\n"
          ]
        }
      ]
    },
    {
      "cell_type": "code",
      "source": [
        "x = tf.constant([[[2, 3, 4, 5]]])\n",
        "print(x.shape)\n",
        "x_expanded = tf.expand_dims(x, axis = 0)\n",
        "print(x_expanded)"
      ],
      "metadata": {
        "colab": {
          "base_uri": "https://localhost:8080/"
        },
        "id": "gPb7uSa7Oon-",
        "outputId": "bdbe4b67-75b1-4155-ab6a-6962511b27e9"
      },
      "execution_count": 81,
      "outputs": [
        {
          "output_type": "stream",
          "name": "stdout",
          "text": [
            "(1, 1, 4)\n",
            "tf.Tensor([[[[2 3 4 5]]]], shape=(1, 1, 1, 4), dtype=int32)\n"
          ]
        }
      ]
    },
    {
      "cell_type": "code",
      "source": [
        "x_squeezed = tf.squeeze(x_expanded , axis =0 )\n",
        "print(x_squeezed)"
      ],
      "metadata": {
        "colab": {
          "base_uri": "https://localhost:8080/"
        },
        "id": "8RWvIuZAPiHw",
        "outputId": "bf087e23-71a2-4c48-b3b7-3a51912ac7ef"
      },
      "execution_count": 82,
      "outputs": [
        {
          "output_type": "stream",
          "name": "stdout",
          "text": [
            "tf.Tensor([[[2 3 4 5]]], shape=(1, 1, 4), dtype=int32)\n"
          ]
        }
      ]
    },
    {
      "cell_type": "code",
      "source": [
        "x_squeezed = tf.squeeze(x_expanded , axis =0 )\n",
        "for i in range(2):\n",
        "    x_squeezed = tf.squeeze(x_squeezed, axis = 0)\n",
        "\n",
        "print(x_squeezed)"
      ],
      "metadata": {
        "colab": {
          "base_uri": "https://localhost:8080/"
        },
        "id": "A5XJi-YOPmiJ",
        "outputId": "8ea82a07-e3dd-4ff4-b7d1-8d9f31ab865b"
      },
      "execution_count": 85,
      "outputs": [
        {
          "output_type": "stream",
          "name": "stdout",
          "text": [
            "tf.Tensor([2 3 4 5], shape=(4,), dtype=int32)\n"
          ]
        }
      ]
    },
    {
      "cell_type": "code",
      "source": [
        "print(tensor_three_d.shape)\n",
        "x_exp = tf.expand_dims(tensor_three_d, axis = 3)\n",
        "print(x_exp.shape)\n",
        "print(tf.squeeze(x_exp, axis = 3).shape)\n",
        "print(tf.reshape(x_exp, [4,2,3]).shape)"
      ],
      "metadata": {
        "colab": {
          "base_uri": "https://localhost:8080/"
        },
        "id": "oS70A7DoP7IV",
        "outputId": "55b7abcf-08c8-4ee5-d34a-c45a9e6767b0"
      },
      "execution_count": 87,
      "outputs": [
        {
          "output_type": "stream",
          "name": "stdout",
          "text": [
            "(4, 2, 3)\n",
            "(4, 2, 3, 1)\n",
            "(4, 2, 3)\n",
            "(4, 2, 3)\n"
          ]
        }
      ]
    },
    {
      "cell_type": "code",
      "source": [
        "print(tf.squeeze(x_exp, axis = 3))\n",
        "print(tf.reshape(x_exp, [4,2,3]))"
      ],
      "metadata": {
        "colab": {
          "base_uri": "https://localhost:8080/"
        },
        "id": "n9yrmEM3QSh0",
        "outputId": "3fb9384e-2821-46d5-f8a6-d24bfc485fb3"
      },
      "execution_count": 88,
      "outputs": [
        {
          "output_type": "stream",
          "name": "stdout",
          "text": [
            "tf.Tensor(\n",
            "[[[ 1  2  0]\n",
            "  [ 3  5 -1]]\n",
            "\n",
            " [[10  2  0]\n",
            "  [ 1  0  2]]\n",
            "\n",
            " [[ 5  8  0]\n",
            "  [ 2  7  0]]\n",
            "\n",
            " [[ 2  1  9]\n",
            "  [ 4 -3 32]]], shape=(4, 2, 3), dtype=int32)\n",
            "tf.Tensor(\n",
            "[[[ 1  2  0]\n",
            "  [ 3  5 -1]]\n",
            "\n",
            " [[10  2  0]\n",
            "  [ 1  0  2]]\n",
            "\n",
            " [[ 5  8  0]\n",
            "  [ 2  7  0]]\n",
            "\n",
            " [[ 2  1  9]\n",
            "  [ 4 -3 32]]], shape=(4, 2, 3), dtype=int32)\n"
          ]
        }
      ]
    },
    {
      "cell_type": "code",
      "source": [
        "x_reshape = tf.constant([[3, 5, 6, 6],\n",
        "                         [4, 6, -1, 2]])\n",
        "\n",
        "tf.reshape(x_reshape, [8])"
      ],
      "metadata": {
        "colab": {
          "base_uri": "https://localhost:8080/"
        },
        "id": "-O_XXlgHQWBP",
        "outputId": "6de5bbbd-a96e-44f2-9644-eec03792178e"
      },
      "execution_count": 89,
      "outputs": [
        {
          "output_type": "execute_result",
          "data": {
            "text/plain": [
              "<tf.Tensor: shape=(8,), dtype=int32, numpy=array([ 3,  5,  6,  6,  4,  6, -1,  2], dtype=int32)>"
            ]
          },
          "metadata": {},
          "execution_count": 89
        }
      ]
    },
    {
      "cell_type": "code",
      "source": [
        "tf.reshape(x_reshape, [2, 4])"
      ],
      "metadata": {
        "colab": {
          "base_uri": "https://localhost:8080/"
        },
        "id": "De-PaD8UQnSt",
        "outputId": "bc20d22e-e905-4db9-b10e-525754014724"
      },
      "execution_count": 90,
      "outputs": [
        {
          "output_type": "execute_result",
          "data": {
            "text/plain": [
              "<tf.Tensor: shape=(2, 4), dtype=int32, numpy=\n",
              "array([[ 3,  5,  6,  6],\n",
              "       [ 4,  6, -1,  2]], dtype=int32)>"
            ]
          },
          "metadata": {},
          "execution_count": 90
        }
      ]
    },
    {
      "cell_type": "code",
      "source": [
        "tf.reshape(x_reshape, [4, 2])"
      ],
      "metadata": {
        "colab": {
          "base_uri": "https://localhost:8080/"
        },
        "id": "nZVeO12LQphD",
        "outputId": "efb13c93-4b9b-433f-a241-c4d93ffa208f"
      },
      "execution_count": 91,
      "outputs": [
        {
          "data": {
            "text/plain": [
              "<tf.Tensor: shape=(4, 2), dtype=int32, numpy=\n",
              "array([[ 3,  5],\n",
              "       [ 6,  6],\n",
              "       [ 4,  6],\n",
              "       [-1,  2]], dtype=int32)>"
            ]
          },
          "execution_count": 91,
          "metadata": {},
          "output_type": "execute_result"
        }
      ]
    },
    {
      "cell_type": "code",
      "source": [
        "tf.transpose(x_reshape)"
      ],
      "metadata": {
        "colab": {
          "base_uri": "https://localhost:8080/"
        },
        "id": "HjAP2GftRHEl",
        "outputId": "22021dbe-1ca4-4dd2-c775-4d7ef6fc5f2a"
      },
      "execution_count": 92,
      "outputs": [
        {
          "output_type": "execute_result",
          "data": {
            "text/plain": [
              "<tf.Tensor: shape=(4, 2), dtype=int32, numpy=\n",
              "array([[ 3,  4],\n",
              "       [ 5,  6],\n",
              "       [ 6, -1],\n",
              "       [ 6,  2]], dtype=int32)>"
            ]
          },
          "metadata": {},
          "execution_count": 92
        }
      ]
    },
    {
      "cell_type": "code",
      "source": [
        "tf.reshape(x_reshape, [4, 2, 1])"
      ],
      "metadata": {
        "colab": {
          "base_uri": "https://localhost:8080/"
        },
        "id": "Rnzk4pMFSQUc",
        "outputId": "d7b5e6d0-f397-4986-afd3-a42909308154"
      },
      "execution_count": 93,
      "outputs": [
        {
          "output_type": "execute_result",
          "data": {
            "text/plain": [
              "<tf.Tensor: shape=(4, 2, 1), dtype=int32, numpy=\n",
              "array([[[ 3],\n",
              "        [ 5]],\n",
              "\n",
              "       [[ 6],\n",
              "        [ 6]],\n",
              "\n",
              "       [[ 4],\n",
              "        [ 6]],\n",
              "\n",
              "       [[-1],\n",
              "        [ 2]]], dtype=int32)>"
            ]
          },
          "metadata": {},
          "execution_count": 93
        }
      ]
    },
    {
      "cell_type": "code",
      "source": [
        "tf.reshape(x_reshape, [4, -1])"
      ],
      "metadata": {
        "colab": {
          "base_uri": "https://localhost:8080/"
        },
        "id": "8-MdFPqXSWl3",
        "outputId": "c88b6915-baf8-45e2-94d7-0f9037fd586a"
      },
      "execution_count": 94,
      "outputs": [
        {
          "output_type": "execute_result",
          "data": {
            "text/plain": [
              "<tf.Tensor: shape=(4, 2), dtype=int32, numpy=\n",
              "array([[ 3,  5],\n",
              "       [ 6,  6],\n",
              "       [ 4,  6],\n",
              "       [-1,  2]], dtype=int32)>"
            ]
          },
          "metadata": {},
          "execution_count": 94
        }
      ]
    },
    {
      "cell_type": "code",
      "source": [
        "t1 = [[1, 2, 3],\n",
        "      [4, 5, 6]]\n",
        "\n",
        "t2 = [[7, 8, 9],\n",
        "      [10, 11, 12]]\n",
        "\n",
        "tf.concat([t1 , t2], axis = 0)"
      ],
      "metadata": {
        "colab": {
          "base_uri": "https://localhost:8080/"
        },
        "id": "58AdVhWhSjRo",
        "outputId": "858ea4e2-de54-424f-f651-c5f9307a7be5"
      },
      "execution_count": 95,
      "outputs": [
        {
          "output_type": "execute_result",
          "data": {
            "text/plain": [
              "<tf.Tensor: shape=(4, 3), dtype=int32, numpy=\n",
              "array([[ 1,  2,  3],\n",
              "       [ 4,  5,  6],\n",
              "       [ 7,  8,  9],\n",
              "       [10, 11, 12]], dtype=int32)>"
            ]
          },
          "metadata": {},
          "execution_count": 95
        }
      ]
    },
    {
      "cell_type": "code",
      "source": [
        "print(tf.constant(t1).shape)\n",
        "print(tf.constant(t2).shape)"
      ],
      "metadata": {
        "colab": {
          "base_uri": "https://localhost:8080/"
        },
        "id": "OdlG-iaxSuxI",
        "outputId": "68a4f432-a00a-44cc-ceea-3ea64fa99b42"
      },
      "execution_count": 96,
      "outputs": [
        {
          "output_type": "stream",
          "name": "stdout",
          "text": [
            "(2, 3)\n",
            "(2, 3)\n"
          ]
        }
      ]
    },
    {
      "cell_type": "code",
      "source": [
        "tf.concat([t1 , t2], axis = 1)"
      ],
      "metadata": {
        "colab": {
          "base_uri": "https://localhost:8080/"
        },
        "id": "eCm_qJPhSzPX",
        "outputId": "e1bc483f-c14a-4842-f441-5d8a1a916160"
      },
      "execution_count": 97,
      "outputs": [
        {
          "output_type": "execute_result",
          "data": {
            "text/plain": [
              "<tf.Tensor: shape=(2, 6), dtype=int32, numpy=\n",
              "array([[ 1,  2,  3,  7,  8,  9],\n",
              "       [ 4,  5,  6, 10, 11, 12]], dtype=int32)>"
            ]
          },
          "metadata": {},
          "execution_count": 97
        }
      ]
    },
    {
      "cell_type": "code",
      "source": [
        "t1 = [[[1, 2, 3],\n",
        "       [4, 5, 6]]]\n",
        "\n",
        "t2 = [[[7, 8, 9],\n",
        "       [10, 11, 12]]]\n",
        "\n",
        "tf.concat([t1 , t2], axis = 0)"
      ],
      "metadata": {
        "colab": {
          "base_uri": "https://localhost:8080/"
        },
        "id": "AOCah8zmTGUj",
        "outputId": "a2d31a2d-4eeb-45c3-f60f-5884e90592c5"
      },
      "execution_count": 98,
      "outputs": [
        {
          "output_type": "execute_result",
          "data": {
            "text/plain": [
              "<tf.Tensor: shape=(2, 2, 3), dtype=int32, numpy=\n",
              "array([[[ 1,  2,  3],\n",
              "        [ 4,  5,  6]],\n",
              "\n",
              "       [[ 7,  8,  9],\n",
              "        [10, 11, 12]]], dtype=int32)>"
            ]
          },
          "metadata": {},
          "execution_count": 98
        }
      ]
    },
    {
      "cell_type": "code",
      "source": [
        "tf.concat([t1 , t2], axis = 1)"
      ],
      "metadata": {
        "colab": {
          "base_uri": "https://localhost:8080/"
        },
        "id": "48xY2pa0TYOS",
        "outputId": "8890621d-ffee-4c94-cf97-26c84d1e7987"
      },
      "execution_count": 99,
      "outputs": [
        {
          "output_type": "execute_result",
          "data": {
            "text/plain": [
              "<tf.Tensor: shape=(1, 4, 3), dtype=int32, numpy=\n",
              "array([[[ 1,  2,  3],\n",
              "        [ 4,  5,  6],\n",
              "        [ 7,  8,  9],\n",
              "        [10, 11, 12]]], dtype=int32)>"
            ]
          },
          "metadata": {},
          "execution_count": 99
        }
      ]
    },
    {
      "cell_type": "code",
      "source": [
        "tf.stack([t1, t2], axis = 0)"
      ],
      "metadata": {
        "colab": {
          "base_uri": "https://localhost:8080/"
        },
        "id": "U294_nmdTgJV",
        "outputId": "488613ea-5498-4aa8-ba88-3095cb5f73c0"
      },
      "execution_count": 104,
      "outputs": [
        {
          "output_type": "execute_result",
          "data": {
            "text/plain": [
              "<tf.Tensor: shape=(2, 1, 2, 3), dtype=int32, numpy=\n",
              "array([[[[ 1,  2,  3],\n",
              "         [ 4,  5,  6]]],\n",
              "\n",
              "\n",
              "       [[[ 7,  8,  9],\n",
              "         [10, 11, 12]]]], dtype=int32)>"
            ]
          },
          "metadata": {},
          "execution_count": 104
        }
      ]
    },
    {
      "cell_type": "code",
      "source": [
        "tf.stack([t1, t2, t1], axis = 0)"
      ],
      "metadata": {
        "colab": {
          "base_uri": "https://localhost:8080/"
        },
        "id": "2LB4SLFLToDi",
        "outputId": "bf396d58-7e04-43dd-fbc8-06354b32a679"
      },
      "execution_count": 103,
      "outputs": [
        {
          "output_type": "execute_result",
          "data": {
            "text/plain": [
              "<tf.Tensor: shape=(3, 1, 2, 3), dtype=int32, numpy=\n",
              "array([[[[ 1,  2,  3],\n",
              "         [ 4,  5,  6]]],\n",
              "\n",
              "\n",
              "       [[[ 7,  8,  9],\n",
              "         [10, 11, 12]]],\n",
              "\n",
              "\n",
              "       [[[ 1,  2,  3],\n",
              "         [ 4,  5,  6]]]], dtype=int32)>"
            ]
          },
          "metadata": {},
          "execution_count": 103
        }
      ]
    },
    {
      "cell_type": "code",
      "source": [
        "tf.concat([tf.expand_dims(t, axis = 0) for t in[t1, t2]], axis = 0)"
      ],
      "metadata": {
        "colab": {
          "base_uri": "https://localhost:8080/"
        },
        "id": "XjrG8EDiTqZe",
        "outputId": "a6f3efdf-5977-4f16-ac4b-df9900226ea2"
      },
      "execution_count": 105,
      "outputs": [
        {
          "output_type": "execute_result",
          "data": {
            "text/plain": [
              "<tf.Tensor: shape=(2, 1, 2, 3), dtype=int32, numpy=\n",
              "array([[[[ 1,  2,  3],\n",
              "         [ 4,  5,  6]]],\n",
              "\n",
              "\n",
              "       [[[ 7,  8,  9],\n",
              "         [10, 11, 12]]]], dtype=int32)>"
            ]
          },
          "metadata": {},
          "execution_count": 105
        }
      ]
    },
    {
      "cell_type": "code",
      "source": [
        "t = tf.constant([[1, 2, 3], [4, 5, 6]])\n",
        "paddings = tf.constant ([[1, 1], [2, 2]])"
      ],
      "metadata": {
        "id": "aKYfFoNcVhJH"
      },
      "execution_count": 106,
      "outputs": []
    },
    {
      "cell_type": "code",
      "source": [
        "tf.pad(t, paddings, \"CONSTANT\", constant_values = 3)"
      ],
      "metadata": {
        "colab": {
          "base_uri": "https://localhost:8080/"
        },
        "id": "G--HJptIXVKo",
        "outputId": "a0d5c71b-a8cd-4fad-fcb6-b16970fa7f18"
      },
      "execution_count": 107,
      "outputs": [
        {
          "output_type": "execute_result",
          "data": {
            "text/plain": [
              "<tf.Tensor: shape=(4, 7), dtype=int32, numpy=\n",
              "array([[3, 3, 3, 3, 3, 3, 3],\n",
              "       [3, 3, 1, 2, 3, 3, 3],\n",
              "       [3, 3, 4, 5, 6, 3, 3],\n",
              "       [3, 3, 3, 3, 3, 3, 3]], dtype=int32)>"
            ]
          },
          "metadata": {},
          "execution_count": 107
        }
      ]
    },
    {
      "cell_type": "code",
      "source": [
        "tf.pad(t, paddings, \"CONSTANT\", constant_values = 0)"
      ],
      "metadata": {
        "colab": {
          "base_uri": "https://localhost:8080/"
        },
        "id": "7jSqb8rsXxph",
        "outputId": "e877623a-cc9f-40ba-dfdc-86a470740abb"
      },
      "execution_count": 108,
      "outputs": [
        {
          "output_type": "execute_result",
          "data": {
            "text/plain": [
              "<tf.Tensor: shape=(4, 7), dtype=int32, numpy=\n",
              "array([[0, 0, 0, 0, 0, 0, 0],\n",
              "       [0, 0, 1, 2, 3, 0, 0],\n",
              "       [0, 0, 4, 5, 6, 0, 0],\n",
              "       [0, 0, 0, 0, 0, 0, 0]], dtype=int32)>"
            ]
          },
          "metadata": {},
          "execution_count": 108
        }
      ]
    },
    {
      "cell_type": "code",
      "source": [
        "params = tf.constant(['p0', 'p1', 'p2', 'p3', 'p4', 'p5'])\n",
        "print(params.shape)\n",
        "params[0:3+1]"
      ],
      "metadata": {
        "colab": {
          "base_uri": "https://localhost:8080/"
        },
        "id": "ADPN_bZDX0jX",
        "outputId": "1a256d3f-1c41-4f9e-e72c-01b6e862eda2"
      },
      "execution_count": 118,
      "outputs": [
        {
          "output_type": "stream",
          "name": "stdout",
          "text": [
            "(6,)\n"
          ]
        },
        {
          "output_type": "execute_result",
          "data": {
            "text/plain": [
              "<tf.Tensor: shape=(4,), dtype=string, numpy=array([b'p0', b'p1', b'p2', b'p3'], dtype=object)>"
            ]
          },
          "metadata": {},
          "execution_count": 118
        }
      ]
    },
    {
      "cell_type": "code",
      "source": [
        "params[1:3+1]"
      ],
      "metadata": {
        "colab": {
          "base_uri": "https://localhost:8080/"
        },
        "id": "d-AMG3YfZanv",
        "outputId": "697f036a-5712-475c-e123-ee52c1da3d6b"
      },
      "execution_count": 110,
      "outputs": [
        {
          "output_type": "execute_result",
          "data": {
            "text/plain": [
              "<tf.Tensor: shape=(3,), dtype=string, numpy=array([b'p1', b'p2', b'p3'], dtype=object)>"
            ]
          },
          "metadata": {},
          "execution_count": 110
        }
      ]
    },
    {
      "cell_type": "code",
      "source": [
        "tf.gather(params, [1, 2, 3])\n"
      ],
      "metadata": {
        "colab": {
          "base_uri": "https://localhost:8080/"
        },
        "id": "950dr1VYZnoA",
        "outputId": "45a9f1c8-5143-486b-85dc-bbfc72469282"
      },
      "execution_count": 111,
      "outputs": [
        {
          "output_type": "execute_result",
          "data": {
            "text/plain": [
              "<tf.Tensor: shape=(3,), dtype=string, numpy=array([b'p1', b'p2', b'p3'], dtype=object)>"
            ]
          },
          "metadata": {},
          "execution_count": 111
        }
      ]
    },
    {
      "cell_type": "code",
      "source": [
        "tf.gather(params, tf.range(1, 4))"
      ],
      "metadata": {
        "colab": {
          "base_uri": "https://localhost:8080/"
        },
        "id": "TdV0gXmBZ2RD",
        "outputId": "496a0def-2ba9-46a9-f110-d1ec64d23532"
      },
      "execution_count": 112,
      "outputs": [
        {
          "output_type": "execute_result",
          "data": {
            "text/plain": [
              "<tf.Tensor: shape=(3,), dtype=string, numpy=array([b'p1', b'p2', b'p3'], dtype=object)>"
            ]
          },
          "metadata": {},
          "execution_count": 112
        }
      ]
    },
    {
      "cell_type": "code",
      "source": [
        "tf.gather(params, [0,5,3])"
      ],
      "metadata": {
        "colab": {
          "base_uri": "https://localhost:8080/"
        },
        "id": "nR6xjYKHaHbS",
        "outputId": "3cc1dc64-3312-4210-9fe8-225f1aef08a3"
      },
      "execution_count": 113,
      "outputs": [
        {
          "output_type": "execute_result",
          "data": {
            "text/plain": [
              "<tf.Tensor: shape=(3,), dtype=string, numpy=array([b'p0', b'p5', b'p3'], dtype=object)>"
            ]
          },
          "metadata": {},
          "execution_count": 113
        }
      ]
    },
    {
      "cell_type": "code",
      "source": [
        "params = tf.constant([\n",
        "\n",
        "                       [0, 1.0, 2.0],\n",
        "                       [10.0, 11.0, 12.0],\n",
        "                       [20.0, 21.0, 22.0],\n",
        "                       [30.0, 31.0, 32.0] ])\n",
        "\n",
        "print(params.shape)\n",
        "tf.gather(params, [0])"
      ],
      "metadata": {
        "colab": {
          "base_uri": "https://localhost:8080/"
        },
        "id": "vru-7UYfaRKw",
        "outputId": "59d920cd-6fe2-4f54-b6a9-42d2bbd0f533"
      },
      "execution_count": 119,
      "outputs": [
        {
          "output_type": "stream",
          "name": "stdout",
          "text": [
            "(4, 3)\n"
          ]
        },
        {
          "output_type": "execute_result",
          "data": {
            "text/plain": [
              "<tf.Tensor: shape=(1, 3), dtype=float32, numpy=array([[0., 1., 2.]], dtype=float32)>"
            ]
          },
          "metadata": {},
          "execution_count": 119
        }
      ]
    },
    {
      "cell_type": "code",
      "source": [
        "tf.gather(params, [0], axis = 0)"
      ],
      "metadata": {
        "colab": {
          "base_uri": "https://localhost:8080/"
        },
        "id": "gDa03hQ5bHWo",
        "outputId": "3ef97b43-7fc1-44f8-adef-2e84d33e5f5b"
      },
      "execution_count": 120,
      "outputs": [
        {
          "output_type": "execute_result",
          "data": {
            "text/plain": [
              "<tf.Tensor: shape=(1, 3), dtype=float32, numpy=array([[0., 1., 2.]], dtype=float32)>"
            ]
          },
          "metadata": {},
          "execution_count": 120
        }
      ]
    },
    {
      "cell_type": "code",
      "source": [
        "params = tf.constant([[[0, 1.0, 2.0],\n",
        "                       [10.0, 11.0, 12.0],\n",
        "                       [20.0, 21.0, 22.0],\n",
        "                       [30.0, 31.0, 32.0]]])\n",
        "\n",
        "print(params.shape)\n",
        "tf.gather(params, [2, 0], axis = 1)"
      ],
      "metadata": {
        "colab": {
          "base_uri": "https://localhost:8080/"
        },
        "id": "2pzHwEdzZiXY",
        "outputId": "016c3f5c-bcef-4c94-cac9-c125d65bc4c7"
      },
      "execution_count": 126,
      "outputs": [
        {
          "output_type": "stream",
          "name": "stdout",
          "text": [
            "(1, 4, 3)\n"
          ]
        },
        {
          "output_type": "execute_result",
          "data": {
            "text/plain": [
              "<tf.Tensor: shape=(1, 2, 3), dtype=float32, numpy=\n",
              "array([[[20., 21., 22.],\n",
              "        [ 0.,  1.,  2.]]], dtype=float32)>"
            ]
          },
          "metadata": {},
          "execution_count": 126
        }
      ]
    },
    {
      "cell_type": "code",
      "source": [
        "params = tf.constant([[[0, 1.0, 2.0],\n",
        "                       [10.0, 11.0, 12.0],\n",
        "                       [20.0, 21.0, 22.0],\n",
        "                       [30.0, 31.0, 32.0]],\n",
        "\n",
        "                      [[3, 1, 21],\n",
        "                       [1, 3, 88],\n",
        "                       [0, 5, 55],\n",
        "                       [0, 2, 30]]])\n",
        "\n",
        "print(params.shape)\n",
        "tf.gather(params, [2, 0], axis = 1)"
      ],
      "metadata": {
        "colab": {
          "base_uri": "https://localhost:8080/"
        },
        "id": "pafT999JcPYv",
        "outputId": "b5174b9c-2814-437f-e756-d5d9e0264ae9"
      },
      "execution_count": 127,
      "outputs": [
        {
          "output_type": "stream",
          "name": "stdout",
          "text": [
            "(2, 4, 3)\n"
          ]
        },
        {
          "output_type": "execute_result",
          "data": {
            "text/plain": [
              "<tf.Tensor: shape=(2, 2, 3), dtype=float32, numpy=\n",
              "array([[[20., 21., 22.],\n",
              "        [ 0.,  1.,  2.]],\n",
              "\n",
              "       [[ 0.,  5., 55.],\n",
              "        [ 3.,  1., 21.]]], dtype=float32)>"
            ]
          },
          "metadata": {},
          "execution_count": 127
        }
      ]
    },
    {
      "cell_type": "code",
      "source": [
        "indices = [[0],\n",
        "           [1]]\n",
        "\n",
        "params = [['a', 'b'],\n",
        "          ['c', 'd']]\n",
        "\n",
        "tf.gather_nd(params, indices)"
      ],
      "metadata": {
        "colab": {
          "base_uri": "https://localhost:8080/"
        },
        "id": "5YG8G_jRdA-0",
        "outputId": "a2e40952-f94e-4116-ae53-c62893e4900b"
      },
      "execution_count": 129,
      "outputs": [
        {
          "output_type": "execute_result",
          "data": {
            "text/plain": [
              "<tf.Tensor: shape=(2, 2), dtype=string, numpy=\n",
              "array([[b'a', b'b'],\n",
              "       [b'c', b'd']], dtype=object)>"
            ]
          },
          "metadata": {},
          "execution_count": 129
        }
      ]
    },
    {
      "cell_type": "code",
      "source": [
        "indices = [[0]]\n",
        "\n",
        "params = [['a', 'b'],\n",
        "          ['c', 'd']]\n",
        "\n",
        "tf.gather_nd(params, indices)"
      ],
      "metadata": {
        "colab": {
          "base_uri": "https://localhost:8080/"
        },
        "id": "UyHg0ZZBdXAV",
        "outputId": "ea0841c6-3da0-43c1-8774-5ab23e200b46"
      },
      "execution_count": 130,
      "outputs": [
        {
          "output_type": "execute_result",
          "data": {
            "text/plain": [
              "<tf.Tensor: shape=(1, 2), dtype=string, numpy=array([[b'a', b'b']], dtype=object)>"
            ]
          },
          "metadata": {},
          "execution_count": 130
        }
      ]
    },
    {
      "cell_type": "code",
      "source": [
        "indices = [[2]]\n",
        "\n",
        "params = [['a', 'b'],\n",
        "          ['c', 'd'],\n",
        "          ['e', 'f']]\n",
        "\n",
        "tf.gather_nd(params, indices)"
      ],
      "metadata": {
        "colab": {
          "base_uri": "https://localhost:8080/"
        },
        "id": "0-SPJojSdJkk",
        "outputId": "42416000-24b9-4497-9219-caa91b6eb621"
      },
      "execution_count": 131,
      "outputs": [
        {
          "output_type": "execute_result",
          "data": {
            "text/plain": [
              "<tf.Tensor: shape=(1, 2), dtype=string, numpy=array([[b'e', b'f']], dtype=object)>"
            ]
          },
          "metadata": {},
          "execution_count": 131
        }
      ]
    },
    {
      "cell_type": "code",
      "source": [
        "indices = [[2, 1]]\n",
        "\n",
        "params = [['a', 'b'],\n",
        "          ['c', 'd'],\n",
        "          ['e', 'f']]\n",
        "\n",
        "tf.gather_nd(params, indices)\n",
        "\n",
        "#row 2, column 1"
      ],
      "metadata": {
        "colab": {
          "base_uri": "https://localhost:8080/"
        },
        "id": "HXENLssSdfV1",
        "outputId": "6b25c7c5-af37-49f3-fec7-602c8d01d097"
      },
      "execution_count": 132,
      "outputs": [
        {
          "output_type": "execute_result",
          "data": {
            "text/plain": [
              "<tf.Tensor: shape=(1,), dtype=string, numpy=array([b'f'], dtype=object)>"
            ]
          },
          "metadata": {},
          "execution_count": 132
        }
      ]
    },
    {
      "cell_type": "code",
      "source": [
        "tf.gather(params, indices)\n"
      ],
      "metadata": {
        "colab": {
          "base_uri": "https://localhost:8080/"
        },
        "id": "PdIayAEedtyy",
        "outputId": "3b7de8cc-fe27-463f-96c1-b86fe1ccf779"
      },
      "execution_count": 133,
      "outputs": [
        {
          "output_type": "execute_result",
          "data": {
            "text/plain": [
              "<tf.Tensor: shape=(1, 2, 2), dtype=string, numpy=\n",
              "array([[[b'e', b'f'],\n",
              "        [b'c', b'd']]], dtype=object)>"
            ]
          },
          "metadata": {},
          "execution_count": 133
        }
      ]
    },
    {
      "cell_type": "code",
      "source": [
        "indices = [[0, 1, 0], [1, 0, 1]]\n",
        "\n",
        "\n",
        "params = [[['a0', 'b0'],\n",
        "           ['c0', 'd0']],\n",
        "\n",
        "           [['a1', 'b1'],\n",
        "            ['c1', 'd1']]]\n",
        "\n",
        "tf.gather_nd(params, indices)"
      ],
      "metadata": {
        "colab": {
          "base_uri": "https://localhost:8080/"
        },
        "id": "70VlVRggdnpL",
        "outputId": "90b1e42e-4666-4bbb-aa62-3d336c72ca12"
      },
      "execution_count": 135,
      "outputs": [
        {
          "output_type": "execute_result",
          "data": {
            "text/plain": [
              "<tf.Tensor: shape=(1, 2), dtype=string, numpy=array([[b'c0', b'b1']], dtype=object)>"
            ]
          },
          "metadata": {},
          "execution_count": 135
        }
      ]
    },
    {
      "cell_type": "code",
      "source": [
        "indices = [[[0, 1],\n",
        "            [1, 0]],\n",
        "\n",
        "           [[0, 0],\n",
        "            [1, 1]]]\n",
        "\n",
        "\n",
        "params = [[['a0', 'b0'],\n",
        "           ['c0', 'd0']],\n",
        "\n",
        "           [['a1', 'b1'],\n",
        "            ['c1', 'd1']]]\n",
        "\n",
        "tf.gather_nd(params, indices)"
      ],
      "metadata": {
        "colab": {
          "base_uri": "https://localhost:8080/"
        },
        "id": "o_quTqkWebFB",
        "outputId": "1865baf5-7253-41c9-9e3d-933806c60d75"
      },
      "execution_count": 137,
      "outputs": [
        {
          "output_type": "execute_result",
          "data": {
            "text/plain": [
              "<tf.Tensor: shape=(2, 2, 2), dtype=string, numpy=\n",
              "array([[[b'c0', b'd0'],\n",
              "        [b'a1', b'b1']],\n",
              "\n",
              "       [[b'a0', b'b0'],\n",
              "        [b'c1', b'd1']]], dtype=object)>"
            ]
          },
          "metadata": {},
          "execution_count": 137
        }
      ]
    },
    {
      "cell_type": "code",
      "source": [
        "tf.gather_nd(params, indices, batch_dims = 0)"
      ],
      "metadata": {
        "colab": {
          "base_uri": "https://localhost:8080/"
        },
        "id": "-uPkMtFJe1on",
        "outputId": "8fe4806d-ff48-4d36-950c-cd1ca96fc596"
      },
      "execution_count": 138,
      "outputs": [
        {
          "output_type": "execute_result",
          "data": {
            "text/plain": [
              "<tf.Tensor: shape=(2, 2, 2), dtype=string, numpy=\n",
              "array([[[b'c0', b'd0'],\n",
              "        [b'a1', b'b1']],\n",
              "\n",
              "       [[b'a0', b'b0'],\n",
              "        [b'c1', b'd1']]], dtype=object)>"
            ]
          },
          "metadata": {},
          "execution_count": 138
        }
      ]
    },
    {
      "cell_type": "code",
      "source": [
        "tf.gather_nd(params, indices, batch_dims = 1)"
      ],
      "metadata": {
        "colab": {
          "base_uri": "https://localhost:8080/"
        },
        "id": "KhGzygYxe7kM",
        "outputId": "75ee0c1d-1065-406d-9f3d-85857e4487a6"
      },
      "execution_count": 139,
      "outputs": [
        {
          "output_type": "execute_result",
          "data": {
            "text/plain": [
              "<tf.Tensor: shape=(2, 2), dtype=string, numpy=\n",
              "array([[b'b0', b'c0'],\n",
              "       [b'a1', b'd1']], dtype=object)>"
            ]
          },
          "metadata": {},
          "execution_count": 139
        }
      ]
    },
    {
      "cell_type": "code",
      "source": [
        "tensor_two_d = tf.constant([[1, 2, 0],\n",
        "                            [3, 5, -1],\n",
        "                            [1, 5, 6],\n",
        "                            [2, 3, 8]])\n",
        "\n",
        "print(tensor_two_d.shape)"
      ],
      "metadata": {
        "colab": {
          "base_uri": "https://localhost:8080/"
        },
        "id": "2o51vZP8nIj4",
        "outputId": "7e97e06f-e145-4681-a0e1-1b26567d57ea"
      },
      "execution_count": 144,
      "outputs": [
        {
          "output_type": "stream",
          "name": "stdout",
          "text": [
            "(4, 3)\n"
          ]
        }
      ]
    },
    {
      "cell_type": "code",
      "source": [
        "tensor_two_d = [[1,2,0],\n",
        "                [3,],\n",
        "                [1,5,6,5,6],\n",
        "                [2,3]]\n",
        "\n",
        "tensor_ragged = tf.ragged.constant(tensor_two_d)\n",
        "print(tensor_ragged)"
      ],
      "metadata": {
        "colab": {
          "base_uri": "https://localhost:8080/"
        },
        "id": "WHr-Ta16nQOi",
        "outputId": "2f099a91-6d85-474b-9a96-8d747288019e"
      },
      "execution_count": 146,
      "outputs": [
        {
          "output_type": "stream",
          "name": "stdout",
          "text": [
            "<tf.RaggedTensor [[1, 2, 0], [3], [1, 5, 6, 5, 6], [2, 3]]>\n"
          ]
        }
      ]
    },
    {
      "cell_type": "code",
      "source": [
        "print(tf.RaggedTensor.from_row_lengths(\n",
        "      values=[3, 1, 4, 1, 5, 9, 2, 6],\n",
        "      row_lengths=[4, 0, 3, 1, 0]))"
      ],
      "metadata": {
        "colab": {
          "base_uri": "https://localhost:8080/"
        },
        "id": "EidefUGGnOio",
        "outputId": "86a172f1-de1a-492a-f6ad-cf91700adec5"
      },
      "execution_count": 147,
      "outputs": [
        {
          "output_type": "stream",
          "name": "stdout",
          "text": [
            "<tf.RaggedTensor [[3, 1, 4, 1], [], [5, 9, 2], [6], []]>\n"
          ]
        }
      ]
    },
    {
      "cell_type": "code",
      "source": [
        "tensor_sparse = tf.sparse.SparseTensor(\n",
        "\n",
        "    indices=[[1,1],[3,4]], values = [11,56], dense_shape = [5,6]\n",
        ")"
      ],
      "metadata": {
        "id": "0EWBaTVioFyj"
      },
      "execution_count": 149,
      "outputs": []
    },
    {
      "cell_type": "code",
      "source": [
        "print(tensor_sparse)"
      ],
      "metadata": {
        "colab": {
          "base_uri": "https://localhost:8080/"
        },
        "id": "f1GTHuczocUs",
        "outputId": "300948b9-64cf-45f7-8647-4218c19f0f61"
      },
      "execution_count": 150,
      "outputs": [
        {
          "output_type": "stream",
          "name": "stdout",
          "text": [
            "SparseTensor(indices=tf.Tensor(\n",
            "[[1 1]\n",
            " [3 4]], shape=(2, 2), dtype=int64), values=tf.Tensor([11 56], shape=(2,), dtype=int32), dense_shape=tf.Tensor([5 6], shape=(2,), dtype=int64))\n"
          ]
        }
      ]
    },
    {
      "cell_type": "code",
      "source": [
        "tf.sparse.to_dense(tensor_sparse)"
      ],
      "metadata": {
        "colab": {
          "base_uri": "https://localhost:8080/"
        },
        "id": "z39nkeIYosOc",
        "outputId": "d6a1be53-1f22-4f7f-c206-e7bf2eca5cb6"
      },
      "execution_count": 151,
      "outputs": [
        {
          "output_type": "execute_result",
          "data": {
            "text/plain": [
              "<tf.Tensor: shape=(5, 6), dtype=int32, numpy=\n",
              "array([[ 0,  0,  0,  0,  0,  0],\n",
              "       [ 0, 11,  0,  0,  0,  0],\n",
              "       [ 0,  0,  0,  0,  0,  0],\n",
              "       [ 0,  0,  0,  0, 56,  0],\n",
              "       [ 0,  0,  0,  0,  0,  0]], dtype=int32)>"
            ]
          },
          "metadata": {},
          "execution_count": 151
        }
      ]
    },
    {
      "cell_type": "code",
      "source": [
        "tensor_string = tf.constant(['hello', 'i am', 'a string'])\n",
        "print(tensor_string)"
      ],
      "metadata": {
        "colab": {
          "base_uri": "https://localhost:8080/"
        },
        "id": "cKkggc3To0ue",
        "outputId": "63665f24-3775-456f-cf37-0bd45826a969"
      },
      "execution_count": 152,
      "outputs": [
        {
          "output_type": "stream",
          "name": "stdout",
          "text": [
            "tf.Tensor([b'hello' b'i am' b'a string'], shape=(3,), dtype=string)\n"
          ]
        }
      ]
    },
    {
      "cell_type": "code",
      "source": [
        "tf.strings.join(tensor_string, separator =\"\")"
      ],
      "metadata": {
        "colab": {
          "base_uri": "https://localhost:8080/"
        },
        "id": "qM4UOJ8fo4vi",
        "outputId": "68a43483-491e-44fd-fbfe-25dd098e035c"
      },
      "execution_count": 154,
      "outputs": [
        {
          "output_type": "execute_result",
          "data": {
            "text/plain": [
              "<tf.Tensor: shape=(), dtype=string, numpy=b'helloi ama string'>"
            ]
          },
          "metadata": {},
          "execution_count": 154
        }
      ]
    },
    {
      "cell_type": "code",
      "source": [
        "tf.strings.join(tensor_string, separator =\" \")"
      ],
      "metadata": {
        "colab": {
          "base_uri": "https://localhost:8080/"
        },
        "id": "oGsRmVUOpW7O",
        "outputId": "a50021a8-4c45-486e-d92b-e4e769822d49"
      },
      "execution_count": 155,
      "outputs": [
        {
          "output_type": "execute_result",
          "data": {
            "text/plain": [
              "<tf.Tensor: shape=(), dtype=string, numpy=b'hello i am a string'>"
            ]
          },
          "metadata": {},
          "execution_count": 155
        }
      ]
    },
    {
      "cell_type": "code",
      "source": [
        "tf.strings.join(tensor_string, separator =\"+\")"
      ],
      "metadata": {
        "colab": {
          "base_uri": "https://localhost:8080/"
        },
        "id": "JqY7J5HtpGzh",
        "outputId": "784f3fa8-33aa-4c93-82c8-f16b38eb518c"
      },
      "execution_count": 156,
      "outputs": [
        {
          "output_type": "execute_result",
          "data": {
            "text/plain": [
              "<tf.Tensor: shape=(), dtype=string, numpy=b'hello+i am+a string'>"
            ]
          },
          "metadata": {},
          "execution_count": 156
        }
      ]
    },
    {
      "cell_type": "code",
      "source": [
        "tf.constant([1, 2])"
      ],
      "metadata": {
        "colab": {
          "base_uri": "https://localhost:8080/"
        },
        "id": "iOH5mLp3pco1",
        "outputId": "83b501e6-fc58-4776-e6da-866e174f9fc1"
      },
      "execution_count": 157,
      "outputs": [
        {
          "output_type": "execute_result",
          "data": {
            "text/plain": [
              "<tf.Tensor: shape=(2,), dtype=int32, numpy=array([1, 2], dtype=int32)>"
            ]
          },
          "metadata": {},
          "execution_count": 157
        }
      ]
    },
    {
      "cell_type": "code",
      "source": [
        "x_var = tf.Variable(x)\n",
        "print(x_var)\n",
        "print(x_var.device)"
      ],
      "metadata": {
        "colab": {
          "base_uri": "https://localhost:8080/"
        },
        "id": "86kzwYOUprbJ",
        "outputId": "c69824a5-eb3f-48d5-b114-25f9080a1512"
      },
      "execution_count": 171,
      "outputs": [
        {
          "output_type": "stream",
          "name": "stdout",
          "text": [
            "<tf.Variable 'Variable:0' shape=(1, 1, 4) dtype=int32, numpy=array([[[2, 3, 4, 5]]], dtype=int32)>\n",
            "/job:localhost/replica:0/task:0/device:CPU:0\n"
          ]
        }
      ]
    },
    {
      "cell_type": "code",
      "source": [
        "x_var = tf.Variable(x, name = 'var1')\n",
        "print(x_var)"
      ],
      "metadata": {
        "id": "zKX2nxLBrQEj",
        "outputId": "db713e45-e978-499d-822c-ef8f2e0c6ead",
        "colab": {
          "base_uri": "https://localhost:8080/"
        }
      },
      "execution_count": 172,
      "outputs": [
        {
          "output_type": "stream",
          "name": "stdout",
          "text": [
            "<tf.Variable 'var1:0' shape=(1, 1, 4) dtype=int32, numpy=array([[[2, 3, 4, 5]]], dtype=int32)>\n"
          ]
        }
      ]
    },
    {
      "cell_type": "code",
      "source": [
        "with tf.device('GPU:0'):\n",
        "  x_var = tf.Variable(0.2)\n",
        "\n",
        "with tf.device('CPU:0'):\n",
        "  x_tensor = tf.constant(0.2)\n",
        "\n",
        "print(x_var.device)\n",
        "print(x_tensor.device)"
      ],
      "metadata": {
        "colab": {
          "base_uri": "https://localhost:8080/"
        },
        "id": "QhKCUSwuqtrH",
        "outputId": "6f465533-529e-4e89-8c30-30477c9654f7"
      },
      "execution_count": 169,
      "outputs": [
        {
          "output_type": "stream",
          "name": "stdout",
          "text": [
            "/job:localhost/replica:0/task:0/device:CPU:0\n",
            "/job:localhost/replica:0/task:0/device:CPU:0\n"
          ]
        }
      ]
    },
    {
      "cell_type": "code",
      "source": [
        "with tf.device('CPU:0'):\n",
        "  x_1 = tf.constant([1, 3, 4])\n",
        "  x_2 = tf.constant([1])\n",
        "\n",
        "with tf.device('GPU:0'):\n",
        "  x_3 = x_1 + x_2\n",
        "\n",
        "print(x_1, x_1.device)\n",
        "print(x_2, x_2.device)\n",
        "print(x_3, x_3.device)"
      ],
      "metadata": {
        "colab": {
          "base_uri": "https://localhost:8080/"
        },
        "id": "uNKZhFrip6-1",
        "outputId": "0807a12b-9409-4015-eab7-ade7e8cc40c3"
      },
      "execution_count": 166,
      "outputs": [
        {
          "output_type": "stream",
          "name": "stdout",
          "text": [
            "tf.Tensor([1 3 4], shape=(3,), dtype=int32) /job:localhost/replica:0/task:0/device:CPU:0\n",
            "tf.Tensor([1], shape=(1,), dtype=int32) /job:localhost/replica:0/task:0/device:CPU:0\n",
            "tf.Tensor([2 4 5], shape=(3,), dtype=int32) /job:localhost/replica:0/task:0/device:CPU:0\n"
          ]
        }
      ]
    }
  ]
}