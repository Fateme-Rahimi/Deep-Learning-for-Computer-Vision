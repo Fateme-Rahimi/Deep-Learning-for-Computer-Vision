{
  "nbformat": 4,
  "nbformat_minor": 0,
  "metadata": {
    "colab": {
      "provenance": []
    },
    "kernelspec": {
      "name": "python3",
      "display_name": "Python 3"
    },
    "language_info": {
      "name": "python"
    }
  },
  "cells": [
    {
      "cell_type": "code",
      "execution_count": 1,
      "metadata": {
        "id": "_gswboRMQxzP"
      },
      "outputs": [],
      "source": [
        "import tensorflow as tf\n",
        "import numpy as np\n",
        "import pandas as pd"
      ]
    },
    {
      "cell_type": "code",
      "source": [
        "tensor_zero_d = tf.constant(4)\n",
        "print(tensor_zero_d)"
      ],
      "metadata": {
        "colab": {
          "base_uri": "https://localhost:8080/"
        },
        "id": "HNCfcYeKQ9Fy",
        "outputId": "304901ce-f228-492d-ea7c-33c54e442725"
      },
      "execution_count": null,
      "outputs": [
        {
          "output_type": "stream",
          "name": "stdout",
          "text": [
            "tf.Tensor(4, shape=(), dtype=int32)\n"
          ]
        }
      ]
    },
    {
      "cell_type": "code",
      "source": [
        "tensor_one_d = tf.constant([1,2,3,4,5])\n",
        "print(tensor_one_d)"
      ],
      "metadata": {
        "colab": {
          "base_uri": "https://localhost:8080/"
        },
        "id": "BdUpUq3jRfVl",
        "outputId": "9148747c-4ab3-4846-97e3-3eb97a6c6792"
      },
      "execution_count": null,
      "outputs": [
        {
          "output_type": "stream",
          "name": "stdout",
          "text": [
            "tf.Tensor([1 2 3 4 5], shape=(5,), dtype=int32)\n"
          ]
        }
      ]
    },
    {
      "cell_type": "code",
      "source": [
        "tensor_two_d = tf.constant([\n",
        "    [1,2,0],\n",
        "    [3,5,-1],\n",
        "    [1,5,6],\n",
        "    [2,3,8]\n",
        "])\n",
        "print(tensor_two_d)"
      ],
      "metadata": {
        "colab": {
          "base_uri": "https://localhost:8080/"
        },
        "id": "dVaDon0GR-hz",
        "outputId": "be673932-9e73-468d-87b8-c5203784e6d0"
      },
      "execution_count": null,
      "outputs": [
        {
          "output_type": "stream",
          "name": "stdout",
          "text": [
            "tf.Tensor(\n",
            "[[ 1  2  0]\n",
            " [ 3  5 -1]\n",
            " [ 1  5  6]\n",
            " [ 2  3  8]], shape=(4, 3), dtype=int32)\n"
          ]
        }
      ]
    },
    {
      "cell_type": "code",
      "source": [
        "tensor_three_d = tf.constant([\n",
        "    [[1,2,0],\n",
        "     [3,5,-1]],\n",
        "\n",
        "    [[10,2,0],\n",
        "     [1,0,2]],\n",
        "\n",
        "    [[5,8,0],\n",
        "     [2,7,0]],\n",
        "\n",
        "    [[2,1,9],\n",
        "     [4,-3,32]]\n",
        "])\n",
        "\n",
        "print(tensor_three_d)"
      ],
      "metadata": {
        "colab": {
          "base_uri": "https://localhost:8080/"
        },
        "id": "hv-5yWC4ShH_",
        "outputId": "3eefe817-cfdf-4627-c074-dfedd4f23827"
      },
      "execution_count": null,
      "outputs": [
        {
          "output_type": "stream",
          "name": "stdout",
          "text": [
            "tf.Tensor(\n",
            "[[[ 1  2  0]\n",
            "  [ 3  5 -1]]\n",
            "\n",
            " [[10  2  0]\n",
            "  [ 1  0  2]]\n",
            "\n",
            " [[ 5  8  0]\n",
            "  [ 2  7  0]]\n",
            "\n",
            " [[ 2  1  9]\n",
            "  [ 4 -3 32]]], shape=(4, 2, 3), dtype=int32)\n"
          ]
        }
      ]
    },
    {
      "cell_type": "code",
      "source": [
        "print(tensor_three_d.shape)"
      ],
      "metadata": {
        "id": "xk6cQD4EWHLY",
        "colab": {
          "base_uri": "https://localhost:8080/"
        },
        "outputId": "37abf1b3-2617-4cb8-8c9d-20a69db00e08"
      },
      "execution_count": null,
      "outputs": [
        {
          "output_type": "stream",
          "name": "stdout",
          "text": [
            "(4, 2, 3)\n"
          ]
        }
      ]
    },
    {
      "cell_type": "code",
      "source": [
        "tensor_four_d = tf.constant([\n",
        "  [\n",
        "    [[1,2,0],\n",
        "     [3,5,-1]],\n",
        "\n",
        "    [[10,2,0],\n",
        "     [1,0,2]],\n",
        "\n",
        "    [[5,8,0],\n",
        "     [2,7,0]],\n",
        "\n",
        "    [[2,1,9],\n",
        "     [4,-3,32]]\n",
        "],\n",
        "\n",
        "[\n",
        "    [[1,2,0],\n",
        "     [3,5,-1]],\n",
        "\n",
        "    [[10,-2,0],\n",
        "     [1,0,2]],\n",
        "\n",
        "    [[5,-8,0],\n",
        "     [2,-7,0]],\n",
        "\n",
        "    [[2,-11,9],\n",
        "     [4,-3,32]]\n",
        "],\n",
        "\n",
        "[\n",
        "    [[1,20,0],\n",
        "     [3,50,-1]],\n",
        "\n",
        "    [[10,20,0],\n",
        "     [1,0,2]],\n",
        "\n",
        "    [[5,80,0],\n",
        "     [2,70,0]],\n",
        "\n",
        "    [[2,10,9],\n",
        "     [4,-30,32]]\n",
        "],\n",
        "])\n",
        "\n",
        "print(tensor_four_d)"
      ],
      "metadata": {
        "colab": {
          "base_uri": "https://localhost:8080/"
        },
        "id": "ElELxfeidalQ",
        "outputId": "e1d923cf-0a19-4fa9-a561-66a7cd9b5755"
      },
      "execution_count": null,
      "outputs": [
        {
          "output_type": "stream",
          "name": "stdout",
          "text": [
            "tf.Tensor(\n",
            "[[[[  1   2   0]\n",
            "   [  3   5  -1]]\n",
            "\n",
            "  [[ 10   2   0]\n",
            "   [  1   0   2]]\n",
            "\n",
            "  [[  5   8   0]\n",
            "   [  2   7   0]]\n",
            "\n",
            "  [[  2   1   9]\n",
            "   [  4  -3  32]]]\n",
            "\n",
            "\n",
            " [[[  1   2   0]\n",
            "   [  3   5  -1]]\n",
            "\n",
            "  [[ 10  -2   0]\n",
            "   [  1   0   2]]\n",
            "\n",
            "  [[  5  -8   0]\n",
            "   [  2  -7   0]]\n",
            "\n",
            "  [[  2 -11   9]\n",
            "   [  4  -3  32]]]\n",
            "\n",
            "\n",
            " [[[  1  20   0]\n",
            "   [  3  50  -1]]\n",
            "\n",
            "  [[ 10  20   0]\n",
            "   [  1   0   2]]\n",
            "\n",
            "  [[  5  80   0]\n",
            "   [  2  70   0]]\n",
            "\n",
            "  [[  2  10   9]\n",
            "   [  4 -30  32]]]], shape=(3, 4, 2, 3), dtype=int32)\n"
          ]
        }
      ]
    },
    {
      "cell_type": "code",
      "source": [
        "tensor_bool = tf.constant([True, True, False])\n",
        "print(tensor_bool)"
      ],
      "metadata": {
        "colab": {
          "base_uri": "https://localhost:8080/"
        },
        "id": "GZn7s4wlPYwR",
        "outputId": "8eccd0f8-ea6b-4b8e-bc3c-1a660b9e09ee"
      },
      "execution_count": null,
      "outputs": [
        {
          "output_type": "stream",
          "name": "stdout",
          "text": [
            "tf.Tensor([ True  True False], shape=(3,), dtype=bool)\n"
          ]
        }
      ]
    },
    {
      "cell_type": "code",
      "source": [
        "tensor_string = tf.constant(\"Hello World!\")\n",
        "print(tensor_string)"
      ],
      "metadata": {
        "colab": {
          "base_uri": "https://localhost:8080/"
        },
        "id": "bFrJ_2RfVph4",
        "outputId": "63410b4f-9754-409c-e383-35e895c67856"
      },
      "execution_count": null,
      "outputs": [
        {
          "output_type": "stream",
          "name": "stdout",
          "text": [
            "tf.Tensor(b'Hello World!', shape=(), dtype=string)\n"
          ]
        }
      ]
    },
    {
      "cell_type": "code",
      "source": [
        "tensor_string1 = tf.constant([\"Hello World!\", \"Hi\"])\n",
        "print(tensor_string1)"
      ],
      "metadata": {
        "colab": {
          "base_uri": "https://localhost:8080/"
        },
        "id": "2aeyK8KPV76P",
        "outputId": "71eac17b-a3fd-464b-ad23-6756ff935555"
      },
      "execution_count": null,
      "outputs": [
        {
          "output_type": "stream",
          "name": "stdout",
          "text": [
            "tf.Tensor([b'Hello World!' b'Hi'], shape=(2,), dtype=string)\n"
          ]
        }
      ]
    },
    {
      "cell_type": "code",
      "source": [
        "np_array = np.array([1,2,3,4,5,6,7,8,9])\n",
        "print(np_array)"
      ],
      "metadata": {
        "colab": {
          "base_uri": "https://localhost:8080/"
        },
        "id": "k2UTsTC3WVFK",
        "outputId": "75374962-bc61-407a-b596-34657ac987cf"
      },
      "execution_count": null,
      "outputs": [
        {
          "output_type": "stream",
          "name": "stdout",
          "text": [
            "[1 2 3 4 5 6 7 8 9]\n"
          ]
        }
      ]
    },
    {
      "cell_type": "code",
      "source": [
        "converted_tensor = tf.convert_to_tensor(np_array)\n",
        "print(converted_tensor)"
      ],
      "metadata": {
        "colab": {
          "base_uri": "https://localhost:8080/"
        },
        "id": "f719m8a3WowA",
        "outputId": "bfaeed22-96a7-4121-df05-2b7498364518"
      },
      "execution_count": null,
      "outputs": [
        {
          "output_type": "stream",
          "name": "stdout",
          "text": [
            "tf.Tensor([1 2 3 4 5 6 7 8 9], shape=(9,), dtype=int64)\n"
          ]
        }
      ]
    },
    {
      "cell_type": "code",
      "source": [
        "eye_tensor = tf.eye(\n",
        "    num_rows = 3,\n",
        "    num_columns = None,\n",
        "    batch_shape = None,\n",
        "    dtype = tf.dtypes.float32,\n",
        "    name = None\n",
        ")\n",
        "\n",
        "print(eye_tensor)"
      ],
      "metadata": {
        "colab": {
          "base_uri": "https://localhost:8080/"
        },
        "id": "nCMoKfiWXC6l",
        "outputId": "41119a06-83e0-42a2-94ed-336a97b6f9c6"
      },
      "execution_count": null,
      "outputs": [
        {
          "output_type": "stream",
          "name": "stdout",
          "text": [
            "tf.Tensor(\n",
            "[[1. 0. 0.]\n",
            " [0. 1. 0.]\n",
            " [0. 0. 1.]], shape=(3, 3), dtype=float32)\n"
          ]
        }
      ]
    },
    {
      "cell_type": "code",
      "source": [
        "eye_tensor = tf.eye(\n",
        "    num_rows = 3,\n",
        "    num_columns = None,\n",
        "    batch_shape = None,\n",
        "    dtype = tf.dtypes.float32,\n",
        "    name = None\n",
        ")\n",
        "\n",
        "print(3*eye_tensor)"
      ],
      "metadata": {
        "colab": {
          "base_uri": "https://localhost:8080/"
        },
        "id": "tsTnjBzNYQF1",
        "outputId": "f52822d7-5d6f-4b5c-e5f0-f1e2163808c8"
      },
      "execution_count": null,
      "outputs": [
        {
          "output_type": "stream",
          "name": "stdout",
          "text": [
            "tf.Tensor(\n",
            "[[3. 0. 0.]\n",
            " [0. 3. 0.]\n",
            " [0. 0. 3.]], shape=(3, 3), dtype=float32)\n"
          ]
        }
      ]
    },
    {
      "cell_type": "code",
      "source": [
        "eye_tensor = tf.eye(\n",
        "    num_rows = 3,\n",
        "    num_columns = None,\n",
        "    batch_shape = None,\n",
        "    dtype = tf.dtypes.bool,\n",
        "    name = None\n",
        ")\n",
        "\n",
        "print(eye_tensor)"
      ],
      "metadata": {
        "colab": {
          "base_uri": "https://localhost:8080/"
        },
        "id": "HX5i4uiQYTsl",
        "outputId": "fdfd692d-cec9-412f-a66b-0d080b668d87"
      },
      "execution_count": null,
      "outputs": [
        {
          "output_type": "stream",
          "name": "stdout",
          "text": [
            "tf.Tensor(\n",
            "[[ True False False]\n",
            " [False  True False]\n",
            " [False False  True]], shape=(3, 3), dtype=bool)\n"
          ]
        }
      ]
    },
    {
      "cell_type": "code",
      "source": [
        "eye_tensor = tf.eye(\n",
        "    num_rows = 5,\n",
        "    num_columns = 3,\n",
        "    batch_shape = None,\n",
        "    dtype = tf.dtypes.float32,\n",
        "    name = None\n",
        ")\n",
        "\n",
        "print(eye_tensor)"
      ],
      "metadata": {
        "colab": {
          "base_uri": "https://localhost:8080/"
        },
        "id": "U5fH4VR9YWeq",
        "outputId": "0a708689-c38f-451a-f47f-bca710e39111"
      },
      "execution_count": null,
      "outputs": [
        {
          "output_type": "stream",
          "name": "stdout",
          "text": [
            "tf.Tensor(\n",
            "[[1. 0. 0.]\n",
            " [0. 1. 0.]\n",
            " [0. 0. 1.]\n",
            " [0. 0. 0.]\n",
            " [0. 0. 0.]], shape=(5, 3), dtype=float32)\n"
          ]
        }
      ]
    },
    {
      "cell_type": "code",
      "source": [
        "eye_tensor = tf.eye(\n",
        "    num_rows = 5,\n",
        "    num_columns = 5,\n",
        "    batch_shape = None,\n",
        "    dtype = tf.dtypes.float32,\n",
        "    name = None\n",
        ")\n",
        "\n",
        "print(eye_tensor)"
      ],
      "metadata": {
        "colab": {
          "base_uri": "https://localhost:8080/"
        },
        "id": "QBbEaEpqYmXn",
        "outputId": "27eb0a07-f6d5-41f2-b7e2-c7812bdee7c8"
      },
      "execution_count": null,
      "outputs": [
        {
          "output_type": "stream",
          "name": "stdout",
          "text": [
            "tf.Tensor(\n",
            "[[1. 0. 0. 0. 0.]\n",
            " [0. 1. 0. 0. 0.]\n",
            " [0. 0. 1. 0. 0.]\n",
            " [0. 0. 0. 1. 0.]\n",
            " [0. 0. 0. 0. 1.]], shape=(5, 5), dtype=float32)\n"
          ]
        }
      ]
    },
    {
      "cell_type": "code",
      "source": [
        "eye_tensor = tf.eye(\n",
        "    num_rows = 3,\n",
        "    num_columns = None,\n",
        "    batch_shape = [3,],\n",
        "    dtype = tf.dtypes.float32,\n",
        "    name = None\n",
        ")\n",
        "\n",
        "print(eye_tensor)"
      ],
      "metadata": {
        "colab": {
          "base_uri": "https://localhost:8080/"
        },
        "id": "VSesGEwBYpZi",
        "outputId": "2c1ef04f-7f60-41fb-f89c-f181519e0d9c"
      },
      "execution_count": null,
      "outputs": [
        {
          "output_type": "stream",
          "name": "stdout",
          "text": [
            "tf.Tensor(\n",
            "[[[1. 0. 0.]\n",
            "  [0. 1. 0.]\n",
            "  [0. 0. 1.]]\n",
            "\n",
            " [[1. 0. 0.]\n",
            "  [0. 1. 0.]\n",
            "  [0. 0. 1.]]\n",
            "\n",
            " [[1. 0. 0.]\n",
            "  [0. 1. 0.]\n",
            "  [0. 0. 1.]]], shape=(3, 3, 3), dtype=float32)\n"
          ]
        }
      ]
    },
    {
      "cell_type": "code",
      "source": [
        "eye_tensor = tf.eye(\n",
        "    num_rows = 5,\n",
        "    num_columns = None,\n",
        "    batch_shape = [2,4,],\n",
        "    dtype = tf.dtypes.float32,\n",
        "    name = None\n",
        ")\n",
        "\n",
        "print(eye_tensor)"
      ],
      "metadata": {
        "colab": {
          "base_uri": "https://localhost:8080/"
        },
        "id": "ckYlQ4SSZMyp",
        "outputId": "93060212-140b-4507-cf30-595c60bd3b60"
      },
      "execution_count": null,
      "outputs": [
        {
          "output_type": "stream",
          "name": "stdout",
          "text": [
            "tf.Tensor(\n",
            "[[[[1. 0. 0. 0. 0.]\n",
            "   [0. 1. 0. 0. 0.]\n",
            "   [0. 0. 1. 0. 0.]\n",
            "   [0. 0. 0. 1. 0.]\n",
            "   [0. 0. 0. 0. 1.]]\n",
            "\n",
            "  [[1. 0. 0. 0. 0.]\n",
            "   [0. 1. 0. 0. 0.]\n",
            "   [0. 0. 1. 0. 0.]\n",
            "   [0. 0. 0. 1. 0.]\n",
            "   [0. 0. 0. 0. 1.]]\n",
            "\n",
            "  [[1. 0. 0. 0. 0.]\n",
            "   [0. 1. 0. 0. 0.]\n",
            "   [0. 0. 1. 0. 0.]\n",
            "   [0. 0. 0. 1. 0.]\n",
            "   [0. 0. 0. 0. 1.]]\n",
            "\n",
            "  [[1. 0. 0. 0. 0.]\n",
            "   [0. 1. 0. 0. 0.]\n",
            "   [0. 0. 1. 0. 0.]\n",
            "   [0. 0. 0. 1. 0.]\n",
            "   [0. 0. 0. 0. 1.]]]\n",
            "\n",
            "\n",
            " [[[1. 0. 0. 0. 0.]\n",
            "   [0. 1. 0. 0. 0.]\n",
            "   [0. 0. 1. 0. 0.]\n",
            "   [0. 0. 0. 1. 0.]\n",
            "   [0. 0. 0. 0. 1.]]\n",
            "\n",
            "  [[1. 0. 0. 0. 0.]\n",
            "   [0. 1. 0. 0. 0.]\n",
            "   [0. 0. 1. 0. 0.]\n",
            "   [0. 0. 0. 1. 0.]\n",
            "   [0. 0. 0. 0. 1.]]\n",
            "\n",
            "  [[1. 0. 0. 0. 0.]\n",
            "   [0. 1. 0. 0. 0.]\n",
            "   [0. 0. 1. 0. 0.]\n",
            "   [0. 0. 0. 1. 0.]\n",
            "   [0. 0. 0. 0. 1.]]\n",
            "\n",
            "  [[1. 0. 0. 0. 0.]\n",
            "   [0. 1. 0. 0. 0.]\n",
            "   [0. 0. 1. 0. 0.]\n",
            "   [0. 0. 0. 1. 0.]\n",
            "   [0. 0. 0. 0. 1.]]]], shape=(2, 4, 5, 5), dtype=float32)\n"
          ]
        }
      ]
    },
    {
      "cell_type": "code",
      "source": [
        "fill_tensor = tf.fill(\n",
        "    [3,4], 5, name=None\n",
        ")\n",
        "\n",
        "print(fill_tensor)"
      ],
      "metadata": {
        "colab": {
          "base_uri": "https://localhost:8080/"
        },
        "id": "8tTC1AnHZb1t",
        "outputId": "338d1e2d-ff3a-42b8-c994-584ccb8f4112"
      },
      "execution_count": null,
      "outputs": [
        {
          "output_type": "stream",
          "name": "stdout",
          "text": [
            "tf.Tensor(\n",
            "[[5 5 5 5]\n",
            " [5 5 5 5]\n",
            " [5 5 5 5]], shape=(3, 4), dtype=int32)\n"
          ]
        }
      ]
    },
    {
      "cell_type": "code",
      "source": [
        "fill_tensor = tf.fill(\n",
        "    [1,3,4], 5, name=None\n",
        ")\n",
        "\n",
        "print(fill_tensor)"
      ],
      "metadata": {
        "colab": {
          "base_uri": "https://localhost:8080/"
        },
        "id": "cOYMg4A8Z5KV",
        "outputId": "56bc99be-b827-471f-99d7-767065dc94e5"
      },
      "execution_count": null,
      "outputs": [
        {
          "output_type": "stream",
          "name": "stdout",
          "text": [
            "tf.Tensor(\n",
            "[[[5 5 5 5]\n",
            "  [5 5 5 5]\n",
            "  [5 5 5 5]]], shape=(1, 3, 4), dtype=int32)\n"
          ]
        }
      ]
    },
    {
      "cell_type": "code",
      "source": [
        "ones_tensor = tf.ones(\n",
        "    [5,3,2],\n",
        "    dtype= tf.dtypes.float32,\n",
        "    name = None\n",
        ")\n",
        "\n",
        "print(ones_tensor)"
      ],
      "metadata": {
        "colab": {
          "base_uri": "https://localhost:8080/"
        },
        "id": "QWmeCXcZaGLY",
        "outputId": "cb4aa4b1-5769-4cda-b092-59bf6e65a6d5"
      },
      "execution_count": null,
      "outputs": [
        {
          "output_type": "stream",
          "name": "stdout",
          "text": [
            "tf.Tensor(\n",
            "[[[1. 1.]\n",
            "  [1. 1.]\n",
            "  [1. 1.]]\n",
            "\n",
            " [[1. 1.]\n",
            "  [1. 1.]\n",
            "  [1. 1.]]\n",
            "\n",
            " [[1. 1.]\n",
            "  [1. 1.]\n",
            "  [1. 1.]]\n",
            "\n",
            " [[1. 1.]\n",
            "  [1. 1.]\n",
            "  [1. 1.]]\n",
            "\n",
            " [[1. 1.]\n",
            "  [1. 1.]\n",
            "  [1. 1.]]], shape=(5, 3, 2), dtype=float32)\n"
          ]
        }
      ]
    },
    {
      "cell_type": "code",
      "source": [
        "ones_like_tensor = tf.ones_like(fill_tensor)\n",
        "print(ones_like_tensor)"
      ],
      "metadata": {
        "colab": {
          "base_uri": "https://localhost:8080/"
        },
        "id": "7_n7OLKtbfd-",
        "outputId": "180355ae-87eb-4cbf-bab7-281cc8b43461"
      },
      "execution_count": null,
      "outputs": [
        {
          "output_type": "stream",
          "name": "stdout",
          "text": [
            "tf.Tensor(\n",
            "[[[1 1 1 1]\n",
            "  [1 1 1 1]\n",
            "  [1 1 1 1]]], shape=(1, 3, 4), dtype=int32)\n"
          ]
        }
      ]
    },
    {
      "cell_type": "code",
      "source": [
        "zeros_tensor = tf.zeros(\n",
        "    [3,2],\n",
        "    dtype= tf.dtypes.float32,\n",
        "    name = None\n",
        ")\n",
        "\n",
        "print(zeros_tensor)"
      ],
      "metadata": {
        "colab": {
          "base_uri": "https://localhost:8080/"
        },
        "id": "Mm67y1yZcVLf",
        "outputId": "24d90387-1b1e-48b8-9645-d15a2aef16aa"
      },
      "execution_count": null,
      "outputs": [
        {
          "output_type": "stream",
          "name": "stdout",
          "text": [
            "tf.Tensor(\n",
            "[[0. 0.]\n",
            " [0. 0.]\n",
            " [0. 0.]], shape=(3, 2), dtype=float32)\n"
          ]
        }
      ]
    },
    {
      "cell_type": "code",
      "source": [
        "print(tensor_three_d.shape)"
      ],
      "metadata": {
        "colab": {
          "base_uri": "https://localhost:8080/"
        },
        "id": "ca4b3_ipcp2l",
        "outputId": "22b133e4-a203-4f6f-a5ea-d64152f4bb6f"
      },
      "execution_count": null,
      "outputs": [
        {
          "output_type": "stream",
          "name": "stdout",
          "text": [
            "(4, 2, 3)\n"
          ]
        }
      ]
    },
    {
      "cell_type": "code",
      "source": [
        "print(tf.shape(tensor_three_d))"
      ],
      "metadata": {
        "colab": {
          "base_uri": "https://localhost:8080/"
        },
        "id": "t3pKiD9pcytV",
        "outputId": "dacdc6f9-37f4-4f66-ef49-0e9709796f9a"
      },
      "execution_count": null,
      "outputs": [
        {
          "output_type": "stream",
          "name": "stdout",
          "text": [
            "tf.Tensor([4 2 3], shape=(3,), dtype=int32)\n"
          ]
        }
      ]
    },
    {
      "cell_type": "code",
      "source": [
        "t = tf.constant([[[1,1,1],[2,2,2]],[[3,3,3],[4,4,4]]])\n",
        "tf.rank(t)"
      ],
      "metadata": {
        "colab": {
          "base_uri": "https://localhost:8080/"
        },
        "id": "1rQDME5tdGh6",
        "outputId": "3b8d0c14-5bc8-46d0-ab55-935246f2e7e0"
      },
      "execution_count": null,
      "outputs": [
        {
          "output_type": "execute_result",
          "data": {
            "text/plain": [
              "<tf.Tensor: shape=(), dtype=int32, numpy=3>"
            ]
          },
          "metadata": {},
          "execution_count": 35
        }
      ]
    },
    {
      "cell_type": "code",
      "source": [
        "t = tf.constant([[1,1,1],[2,2,2]])\n",
        "tf.rank(t)"
      ],
      "metadata": {
        "colab": {
          "base_uri": "https://localhost:8080/"
        },
        "id": "7xVsWnQLdnZz",
        "outputId": "2d08bc86-fc5f-4aa9-eb68-b74a26645fe3"
      },
      "execution_count": null,
      "outputs": [
        {
          "output_type": "execute_result",
          "data": {
            "text/plain": [
              "<tf.Tensor: shape=(), dtype=int32, numpy=2>"
            ]
          },
          "metadata": {},
          "execution_count": 36
        }
      ]
    },
    {
      "cell_type": "code",
      "source": [
        "t = tf.constant([[[1,1,1],[2,2,2]],[[3,3,3],[4,4,4]]])\n",
        "tf.size(t)"
      ],
      "metadata": {
        "colab": {
          "base_uri": "https://localhost:8080/"
        },
        "id": "2hC2YETod2CH",
        "outputId": "04686a5d-ddce-499b-95b4-21fbf5118a58"
      },
      "execution_count": null,
      "outputs": [
        {
          "output_type": "execute_result",
          "data": {
            "text/plain": [
              "<tf.Tensor: shape=(), dtype=int32, numpy=12>"
            ]
          },
          "metadata": {},
          "execution_count": 38
        }
      ]
    },
    {
      "cell_type": "code",
      "source": [
        "t = tf.constant([[1,1,1],[2,2,2]])\n",
        "tf.size(t)"
      ],
      "metadata": {
        "colab": {
          "base_uri": "https://localhost:8080/"
        },
        "id": "h2Lj84iodwtb",
        "outputId": "0b547b29-d87d-454a-f090-7f3ea96f1397"
      },
      "execution_count": null,
      "outputs": [
        {
          "output_type": "execute_result",
          "data": {
            "text/plain": [
              "<tf.Tensor: shape=(), dtype=int32, numpy=6>"
            ]
          },
          "metadata": {},
          "execution_count": 37
        }
      ]
    },
    {
      "cell_type": "code",
      "source": [
        "random_tensor = tf.random.normal(\n",
        "    [3,2],\n",
        "    mean = 0.0,\n",
        "    stddev = 1.0,\n",
        "    dtype = tf.dtypes.float32,\n",
        "    seed = None,\n",
        "    name = None\n",
        "\n",
        ")\n",
        "\n",
        "print(random_tensor)"
      ],
      "metadata": {
        "colab": {
          "base_uri": "https://localhost:8080/"
        },
        "id": "-1q7gHi-eEEg",
        "outputId": "166781b9-5928-4957-f13e-13bf89034493"
      },
      "execution_count": null,
      "outputs": [
        {
          "output_type": "stream",
          "name": "stdout",
          "text": [
            "tf.Tensor(\n",
            "[[ 0.56501925  1.2351099 ]\n",
            " [-0.20574673  1.4968257 ]\n",
            " [-0.65784746  1.0039257 ]], shape=(3, 2), dtype=float32)\n"
          ]
        }
      ]
    },
    {
      "cell_type": "code",
      "source": [
        "random_tensor = tf.random.normal(\n",
        "    [3,2],\n",
        "    mean = 100.0,\n",
        "    stddev = 1.0,\n",
        "    dtype = tf.dtypes.float32,\n",
        "    seed = None,\n",
        "    name = None\n",
        "\n",
        ")\n",
        "\n",
        "print(random_tensor)"
      ],
      "metadata": {
        "colab": {
          "base_uri": "https://localhost:8080/"
        },
        "id": "yVvnA_kSe-n9",
        "outputId": "b0742919-a342-4277-abe4-e881ecd93f97"
      },
      "execution_count": null,
      "outputs": [
        {
          "output_type": "stream",
          "name": "stdout",
          "text": [
            "tf.Tensor(\n",
            "[[ 99.447266  98.66759 ]\n",
            " [100.1599    98.32707 ]\n",
            " [101.50436  100.05067 ]], shape=(3, 2), dtype=float32)\n"
          ]
        }
      ]
    },
    {
      "cell_type": "code",
      "source": [
        "#randomly values around mean"
      ],
      "metadata": {
        "id": "-_-29rS3fLDc"
      },
      "execution_count": null,
      "outputs": []
    },
    {
      "cell_type": "markdown",
      "source": [
        "**First Hour Finished**"
      ],
      "metadata": {
        "id": "kxIYt3Fxfi4L"
      }
    }
  ]
}