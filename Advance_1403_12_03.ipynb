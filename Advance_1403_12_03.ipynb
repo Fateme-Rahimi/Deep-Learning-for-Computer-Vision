{
  "nbformat": 4,
  "nbformat_minor": 0,
  "metadata": {
    "colab": {
      "provenance": []
    },
    "kernelspec": {
      "name": "python3",
      "display_name": "Python 3"
    },
    "language_info": {
      "name": "python"
    }
  },
  "cells": [
    {
      "cell_type": "markdown",
      "source": [
        "# First Week - Second part"
      ],
      "metadata": {
        "id": "NQI-2sUn1GmX"
      }
    },
    {
      "cell_type": "code",
      "source": [
        "import tensorflow as tf\n",
        "import numpy as np"
      ],
      "metadata": {
        "id": "ay1a2-h-1M-0"
      },
      "execution_count": 2,
      "outputs": []
    },
    {
      "cell_type": "code",
      "source": [
        "random_tensor = tf.random .uniform(\n",
        "\n",
        "    [5, ],\n",
        "    minval=0,\n",
        "    maxval=100,\n",
        "    dtype=tf.dtypes.float32,\n",
        "    seed=None,\n",
        "    name=None,\n",
        "\n",
        "    )\n",
        "print(random_tensor)"
      ],
      "metadata": {
        "colab": {
          "base_uri": "https://localhost:8080/"
        },
        "id": "l0BQKXn03AkY",
        "outputId": "bf81e455-6f76-4890-8aa2-57a62445d08d"
      },
      "execution_count": null,
      "outputs": [
        {
          "output_type": "stream",
          "name": "stdout",
          "text": [
            "tf.Tensor([68.64908  34.87818  22.33665  54.825867 22.925795], shape=(5,), dtype=float32)\n"
          ]
        }
      ]
    },
    {
      "cell_type": "code",
      "source": [
        "random_tensor = tf.random .uniform(\n",
        "\n",
        "    [5, ],\n",
        "    minval=0,\n",
        "    maxval=1000,\n",
        "    dtype=tf.dtypes.int32,\n",
        "    seed=None,\n",
        "    name=None,\n",
        "\n",
        "    )\n",
        "print(random_tensor)"
      ],
      "metadata": {
        "colab": {
          "base_uri": "https://localhost:8080/"
        },
        "id": "ZNLI_vFW3NrA",
        "outputId": "252c47a8-75e6-4469-8a88-6c9e14c0f7c8"
      },
      "execution_count": null,
      "outputs": [
        {
          "output_type": "stream",
          "name": "stdout",
          "text": [
            "tf.Tensor([902 161 570 264 828], shape=(5,), dtype=int32)\n"
          ]
        }
      ]
    },
    {
      "cell_type": "code",
      "source": [
        "random_tensor = tf.random .uniform(\n",
        "\n",
        "    [5,5],\n",
        "    minval=0,\n",
        "    maxval=1000,\n",
        "    dtype=tf.dtypes.int32,\n",
        "    seed=None,\n",
        "    name=None,\n",
        "\n",
        "    )\n",
        "print(random_tensor)"
      ],
      "metadata": {
        "colab": {
          "base_uri": "https://localhost:8080/"
        },
        "id": "EsvF4FzU3uI-",
        "outputId": "2875ebf1-5f22-45ed-f328-7a57fae9f81d"
      },
      "execution_count": null,
      "outputs": [
        {
          "output_type": "stream",
          "name": "stdout",
          "text": [
            "tf.Tensor(\n",
            "[[993 950 131 616 853]\n",
            " [875 186 851 805  79]\n",
            " [268 473 288 439 221]\n",
            " [575 557 968 628 596]\n",
            " [427 492 974 909 860]], shape=(5, 5), dtype=int32)\n"
          ]
        }
      ]
    },
    {
      "cell_type": "code",
      "source": [
        "tf.random.set_seed(5)\n",
        "print (tf.random.uniform(shape=[3,],maxval=5,dtype=tf.int32,seed=10))\n",
        "print (tf.random.uniform(shape=[3,],maxval=5,dtype=tf.int32,seed=10))\n",
        "print (tf.random.uniform(shape=[3,],maxval=5,dtype=tf.int32,seed=10))\n",
        "print (tf.random.uniform(shape=[3,],maxval=5,dtype=tf.int32,seed=10))"
      ],
      "metadata": {
        "colab": {
          "base_uri": "https://localhost:8080/"
        },
        "id": "VOH8fh3i4mr2",
        "outputId": "472ade2f-131e-4256-ff35-7ce7b308f3ad"
      },
      "execution_count": null,
      "outputs": [
        {
          "output_type": "stream",
          "name": "stdout",
          "text": [
            "tf.Tensor([4 3 1], shape=(3,), dtype=int32)\n",
            "tf.Tensor([4 3 2], shape=(3,), dtype=int32)\n",
            "tf.Tensor([1 1 1], shape=(3,), dtype=int32)\n",
            "tf.Tensor([1 3 3], shape=(3,), dtype=int32)\n"
          ]
        }
      ]
    },
    {
      "cell_type": "code",
      "source": [
        "tf.random.set_seed(5)\n",
        "print (tf.random.uniform(shape=[3,],maxval=5,dtype=tf.int32,seed=10))\n",
        "print (tf.random.uniform(shape=[3,],maxval=5,dtype=tf.int32,seed=10))\n",
        "print (tf.random.uniform(shape=[3,],maxval=5,dtype=tf.int32,seed=10))\n",
        "print (tf.random.uniform(shape=[3,],maxval=5,dtype=tf.int32,seed=1))"
      ],
      "metadata": {
        "colab": {
          "base_uri": "https://localhost:8080/"
        },
        "id": "G8bgYDai5VZF",
        "outputId": "19ed8a96-7a17-4612-e44f-2b35fd520a72"
      },
      "execution_count": null,
      "outputs": [
        {
          "output_type": "stream",
          "name": "stdout",
          "text": [
            "tf.Tensor([4 3 1], shape=(3,), dtype=int32)\n",
            "tf.Tensor([4 3 2], shape=(3,), dtype=int32)\n",
            "tf.Tensor([1 1 1], shape=(3,), dtype=int32)\n",
            "tf.Tensor([4 1 3], shape=(3,), dtype=int32)\n"
          ]
        }
      ]
    },
    {
      "cell_type": "code",
      "source": [
        "#every time u run this, ull get different result\n",
        "\n",
        "print (tf.random.uniform(shape=[3,],maxval=5,dtype=tf.int32,seed=10))\n",
        "print (tf.random.uniform(shape=[3,],maxval=5,dtype=tf.int32,seed=10))\n",
        "print (tf.random.uniform(shape=[3,],maxval=5,dtype=tf.int32,seed=10))\n",
        "print (tf.random.uniform(shape=[3,],maxval=5,dtype=tf.int32,seed=10))"
      ],
      "metadata": {
        "colab": {
          "base_uri": "https://localhost:8080/"
        },
        "id": "huEvGMvp4zL4",
        "outputId": "df1f9961-0548-4c9e-93ae-608d808a53ae"
      },
      "execution_count": null,
      "outputs": [
        {
          "output_type": "stream",
          "name": "stdout",
          "text": [
            "tf.Tensor([4 0 4], shape=(3,), dtype=int32)\n",
            "tf.Tensor([1 4 3], shape=(3,), dtype=int32)\n",
            "tf.Tensor([0 0 0], shape=(3,), dtype=int32)\n",
            "tf.Tensor([3 0 0], shape=(3,), dtype=int32)\n"
          ]
        }
      ]
    },
    {
      "cell_type": "code",
      "source": [
        "tensor_indexed = tf.constant([3,6,2,4,6,66,7])\n",
        "print (tensor_indexed)"
      ],
      "metadata": {
        "colab": {
          "base_uri": "https://localhost:8080/"
        },
        "id": "B8bH725r3965",
        "outputId": "0248f9ed-b39d-4cc7-f775-c640527db289"
      },
      "execution_count": null,
      "outputs": [
        {
          "output_type": "stream",
          "name": "stdout",
          "text": [
            "tf.Tensor([ 3  6  2  4  6 66  7], shape=(7,), dtype=int32)\n"
          ]
        }
      ]
    },
    {
      "cell_type": "code",
      "source": [
        "print (tensor_indexed[0 : 4])\n",
        "print (tensor_indexed[1 : 5+1])\n",
        "#skip 2\n",
        "print (tensor_indexed[1 : 6 : 2])\n",
        "#means from 0 to 4\n",
        "print (tensor_indexed[:4])\n",
        "#means 3 to end\n",
        "print (tensor_indexed[3:])"
      ],
      "metadata": {
        "colab": {
          "base_uri": "https://localhost:8080/"
        },
        "id": "ZoB6JNdY51ku",
        "outputId": "2f4d1f14-b03b-4e8a-fbeb-54eef89f3840"
      },
      "execution_count": null,
      "outputs": [
        {
          "output_type": "stream",
          "name": "stdout",
          "text": [
            "tf.Tensor([3 6 2 4], shape=(4,), dtype=int32)\n",
            "tf.Tensor([ 6  2  4  6 66], shape=(5,), dtype=int32)\n",
            "tf.Tensor([ 6  4 66], shape=(3,), dtype=int32)\n",
            "tf.Tensor([3 6 2 4], shape=(4,), dtype=int32)\n",
            "tf.Tensor([ 4  6 66  7], shape=(4,), dtype=int32)\n"
          ]
        }
      ]
    },
    {
      "cell_type": "code",
      "source": [
        "print (tensor_indexed[3:-1])\n",
        "print (tensor_indexed[3:-2])"
      ],
      "metadata": {
        "colab": {
          "base_uri": "https://localhost:8080/"
        },
        "id": "6M-6kiDK8VdW",
        "outputId": "15ac8f33-460b-45af-fb6f-1063a1edc628"
      },
      "execution_count": null,
      "outputs": [
        {
          "output_type": "stream",
          "name": "stdout",
          "text": [
            "tf.Tensor([ 4  6 66], shape=(3,), dtype=int32)\n",
            "tf.Tensor([4 6], shape=(2,), dtype=int32)\n"
          ]
        }
      ]
    },
    {
      "cell_type": "code",
      "source": [
        "tf.range(2,6)"
      ],
      "metadata": {
        "colab": {
          "base_uri": "https://localhost:8080/"
        },
        "id": "_mNYOPo56cRM",
        "outputId": "0762b635-7303-45ca-da7e-acf75a332b20"
      },
      "execution_count": null,
      "outputs": [
        {
          "output_type": "execute_result",
          "data": {
            "text/plain": [
              "<tf.Tensor: shape=(4,), dtype=int32, numpy=array([2, 3, 4, 5], dtype=int32)>"
            ]
          },
          "metadata": {},
          "execution_count": 14
        }
      ]
    },
    {
      "cell_type": "code",
      "source": [
        "tensor_two_d = tf.constant([\n",
        "\n",
        "        [1,2,0],\n",
        "        [3,5,-1],\n",
        "        [1,5,6],\n",
        "        [2,3,8]\n",
        "\n",
        "        ])\n",
        "#(rows,columns)\n",
        "print(tensor_two_d[0:3,0:2])"
      ],
      "metadata": {
        "colab": {
          "base_uri": "https://localhost:8080/"
        },
        "id": "VCce4eo78nPM",
        "outputId": "e5525f91-6ea5-4721-bdfe-6349386aef14"
      },
      "execution_count": null,
      "outputs": [
        {
          "output_type": "stream",
          "name": "stdout",
          "text": [
            "tf.Tensor(\n",
            "[[1 2]\n",
            " [3 5]\n",
            " [1 5]], shape=(3, 2), dtype=int32)\n"
          ]
        }
      ]
    },
    {
      "cell_type": "code",
      "source": [
        "print(tensor_two_d[0:3,:])"
      ],
      "metadata": {
        "colab": {
          "base_uri": "https://localhost:8080/"
        },
        "id": "Ld9okNAe9WQF",
        "outputId": "408024b2-4fcb-4a35-acc3-19ce5ae250af"
      },
      "execution_count": null,
      "outputs": [
        {
          "output_type": "stream",
          "name": "stdout",
          "text": [
            "tf.Tensor(\n",
            "[[ 1  2  0]\n",
            " [ 3  5 -1]\n",
            " [ 1  5  6]], shape=(3, 3), dtype=int32)\n"
          ]
        }
      ]
    },
    {
      "cell_type": "code",
      "source": [
        "print(tensor_two_d[3,:])"
      ],
      "metadata": {
        "colab": {
          "base_uri": "https://localhost:8080/"
        },
        "id": "ge-5l5v99lPA",
        "outputId": "bbf906d8-f780-4102-e9eb-7af55dff76b4"
      },
      "execution_count": null,
      "outputs": [
        {
          "output_type": "stream",
          "name": "stdout",
          "text": [
            "tf.Tensor([2 3 8], shape=(3,), dtype=int32)\n"
          ]
        }
      ]
    },
    {
      "cell_type": "code",
      "source": [
        "print(tensor_two_d[2,0])"
      ],
      "metadata": {
        "colab": {
          "base_uri": "https://localhost:8080/"
        },
        "id": "eMoCem_c9wTP",
        "outputId": "a2396950-eb41-466d-f02a-312b4c2022ca"
      },
      "execution_count": null,
      "outputs": [
        {
          "output_type": "stream",
          "name": "stdout",
          "text": [
            "tf.Tensor(1, shape=(), dtype=int32)\n"
          ]
        }
      ]
    },
    {
      "cell_type": "code",
      "source": [
        "print(tensor_two_d[2,1:])"
      ],
      "metadata": {
        "colab": {
          "base_uri": "https://localhost:8080/"
        },
        "id": "04m764hp91jX",
        "outputId": "1f2beed7-fba8-497b-ee36-529085edc894"
      },
      "execution_count": null,
      "outputs": [
        {
          "output_type": "stream",
          "name": "stdout",
          "text": [
            "tf.Tensor([5 6], shape=(2,), dtype=int32)\n"
          ]
        }
      ]
    },
    {
      "cell_type": "code",
      "source": [
        "print(tensor_two_d[:,0])"
      ],
      "metadata": {
        "colab": {
          "base_uri": "https://localhost:8080/"
        },
        "id": "n3nItm4O-L2N",
        "outputId": "0c523528-6531-4021-a7f6-93195ffae4e4"
      },
      "execution_count": null,
      "outputs": [
        {
          "output_type": "stream",
          "name": "stdout",
          "text": [
            "tf.Tensor([1 3 1 2], shape=(4,), dtype=int32)\n"
          ]
        }
      ]
    },
    {
      "cell_type": "code",
      "source": [
        "print(tensor_two_d[...,0])"
      ],
      "metadata": {
        "colab": {
          "base_uri": "https://localhost:8080/"
        },
        "id": "sGGcqES8-sgh",
        "outputId": "dcd605f5-e9d7-4bc0-c437-bc8315df199b"
      },
      "execution_count": null,
      "outputs": [
        {
          "output_type": "stream",
          "name": "stdout",
          "text": [
            "tf.Tensor([1 3 1 2], shape=(4,), dtype=int32)\n"
          ]
        }
      ]
    },
    {
      "cell_type": "code",
      "source": [
        "tensor_three_d=tf.constant([\n",
        "\n",
        "    [[1,2,0],\n",
        "     [3,5,-1]],\n",
        "\n",
        "    [[10,2,0],\n",
        "     [5,4,3]],\n",
        "\n",
        "    [[6,2,7],\n",
        "     [2,7,4]],\n",
        "\n",
        "    [[1,2,3],\n",
        "     [5,6,7]]\n",
        "\n",
        "])\n",
        "print(tensor_three_d[0,:,:])"
      ],
      "metadata": {
        "colab": {
          "base_uri": "https://localhost:8080/"
        },
        "id": "EdDVDdTu-vnI",
        "outputId": "b90ea048-c162-4db0-9588-29d4cba25175"
      },
      "execution_count": null,
      "outputs": [
        {
          "output_type": "stream",
          "name": "stdout",
          "text": [
            "tf.Tensor(\n",
            "[[ 1  2  0]\n",
            " [ 3  5 -1]], shape=(2, 3), dtype=int32)\n"
          ]
        }
      ]
    },
    {
      "cell_type": "code",
      "source": [
        "print(tensor_three_d[0,:,-1])"
      ],
      "metadata": {
        "colab": {
          "base_uri": "https://localhost:8080/"
        },
        "id": "mg8GwxhU_awd",
        "outputId": "a3760eb0-356c-4bc4-cbe3-0fc0e6faffb8"
      },
      "execution_count": null,
      "outputs": [
        {
          "output_type": "stream",
          "name": "stdout",
          "text": [
            "tf.Tensor([ 0 -1], shape=(2,), dtype=int32)\n"
          ]
        }
      ]
    },
    {
      "cell_type": "code",
      "source": [
        "print(tensor_three_d[0:2,:,2])"
      ],
      "metadata": {
        "colab": {
          "base_uri": "https://localhost:8080/"
        },
        "id": "tOLaVYK0_ekY",
        "outputId": "06f4aa5e-0887-4ddb-d464-159e0c8dc1d7"
      },
      "execution_count": null,
      "outputs": [
        {
          "output_type": "stream",
          "name": "stdout",
          "text": [
            "tf.Tensor(\n",
            "[[ 0 -1]\n",
            " [ 0  3]], shape=(2, 2), dtype=int32)\n"
          ]
        }
      ]
    },
    {
      "cell_type": "code",
      "source": [
        "print(tensor_three_d[...,:,2])"
      ],
      "metadata": {
        "colab": {
          "base_uri": "https://localhost:8080/"
        },
        "id": "QZ3MuW43_sd4",
        "outputId": "732bb40c-4377-4a25-8b4a-ba4040d58c3b"
      },
      "execution_count": null,
      "outputs": [
        {
          "output_type": "stream",
          "name": "stdout",
          "text": [
            "tf.Tensor(\n",
            "[[ 0 -1]\n",
            " [ 0  3]\n",
            " [ 7  4]\n",
            " [ 3  7]], shape=(4, 2), dtype=int32)\n"
          ]
        }
      ]
    },
    {
      "cell_type": "code",
      "source": [
        "# absolute value\n",
        "x_abs = tf.constant ([-2.25,3.25])\n",
        "tf.abs(x_abs)"
      ],
      "metadata": {
        "colab": {
          "base_uri": "https://localhost:8080/"
        },
        "id": "UyIv3otSBiVp",
        "outputId": "58e6c143-9513-40ea-dcc7-9dc0434f2dab"
      },
      "execution_count": null,
      "outputs": [
        {
          "output_type": "execute_result",
          "data": {
            "text/plain": [
              "<tf.Tensor: shape=(2,), dtype=float32, numpy=array([2.25, 3.25], dtype=float32)>"
            ]
          },
          "metadata": {},
          "execution_count": 53
        }
      ]
    },
    {
      "cell_type": "code",
      "source": [
        "tf.abs(tf.constant(0.2))"
      ],
      "metadata": {
        "colab": {
          "base_uri": "https://localhost:8080/"
        },
        "id": "28t_zFACBwbz",
        "outputId": "7c6f0fc8-73d5-440e-d8d8-9abe92bf6445"
      },
      "execution_count": null,
      "outputs": [
        {
          "output_type": "execute_result",
          "data": {
            "text/plain": [
              "<tf.Tensor: shape=(), dtype=float32, numpy=0.20000000298023224>"
            ]
          },
          "metadata": {},
          "execution_count": 51
        }
      ]
    },
    {
      "cell_type": "code",
      "source": [
        "tf.abs(tf.constant(-0.2))"
      ],
      "metadata": {
        "colab": {
          "base_uri": "https://localhost:8080/"
        },
        "id": "Xh2GlF9zB455",
        "outputId": "545a0af6-cef5-47ff-c9c7-1ac9302df060"
      },
      "execution_count": null,
      "outputs": [
        {
          "output_type": "execute_result",
          "data": {
            "text/plain": [
              "<tf.Tensor: shape=(), dtype=float32, numpy=0.20000000298023224>"
            ]
          },
          "metadata": {},
          "execution_count": 54
        }
      ]
    },
    {
      "cell_type": "code",
      "source": [
        "# absolute values for complex numbers\n",
        "x_abs_complex = tf.constant([-2.25+4.75j])\n",
        "tf.abs(x_abs_complex)"
      ],
      "metadata": {
        "colab": {
          "base_uri": "https://localhost:8080/"
        },
        "id": "GaOq9DwgCIY8",
        "outputId": "2548d1a9-49a0-4cb4-f3ef-a9ee9476495d"
      },
      "execution_count": null,
      "outputs": [
        {
          "output_type": "execute_result",
          "data": {
            "text/plain": [
              "<tf.Tensor: shape=(1,), dtype=float64, numpy=array([5.25594901])>"
            ]
          },
          "metadata": {},
          "execution_count": 55
        }
      ]
    },
    {
      "cell_type": "code",
      "source": [
        "tf.sqrt ((-2.25)**2 + 4.75**2)"
      ],
      "metadata": {
        "colab": {
          "base_uri": "https://localhost:8080/"
        },
        "id": "AmOjFTWTCly-",
        "outputId": "c89b2fcf-e0fd-48ca-fef5-43f251849c23"
      },
      "execution_count": null,
      "outputs": [
        {
          "output_type": "execute_result",
          "data": {
            "text/plain": [
              "<tf.Tensor: shape=(), dtype=float32, numpy=5.255949020385742>"
            ]
          },
          "metadata": {},
          "execution_count": 56
        }
      ]
    },
    {
      "cell_type": "code",
      "source": [
        "x_1 = tf.constant([5,3,6,6,4,6],dtype=tf.int32)\n",
        "x_2 = tf.constant([7,6,2,6,7,11],dtype=tf.int32)\n",
        "print (tf.add(x_1 , x_2))"
      ],
      "metadata": {
        "colab": {
          "base_uri": "https://localhost:8080/"
        },
        "id": "xa9b4v00C5H3",
        "outputId": "4f0d079d-83d2-4ef1-efe9-477ed1fa458d"
      },
      "execution_count": null,
      "outputs": [
        {
          "output_type": "stream",
          "name": "stdout",
          "text": [
            "tf.Tensor([12  9  8 12 11 17], shape=(6,), dtype=int32)\n"
          ]
        }
      ]
    },
    {
      "cell_type": "code",
      "source": [
        "x_1 = tf.constant([5,3,6,6,4,6],dtype=tf.int32)\n",
        "x_2 = tf.constant([7,6,2,6,7,11],dtype=tf.int32)\n",
        "print (tf.multiply(x_1 , x_2))"
      ],
      "metadata": {
        "colab": {
          "base_uri": "https://localhost:8080/"
        },
        "id": "8jpEXGmHC0Th",
        "outputId": "0f8b5bb8-5708-4163-932d-666eb641f8e1"
      },
      "execution_count": null,
      "outputs": [
        {
          "output_type": "stream",
          "name": "stdout",
          "text": [
            "tf.Tensor([35 18 12 36 28 66], shape=(6,), dtype=int32)\n"
          ]
        }
      ]
    },
    {
      "cell_type": "code",
      "source": [
        "x_1 = tf.constant([5,3,6,6,4,6],dtype=tf.int32)\n",
        "x_2 = tf.constant([7,6,2,6,7,11],dtype=tf.int32)\n",
        "print (tf.subtract(x_1 , x_2))"
      ],
      "metadata": {
        "colab": {
          "base_uri": "https://localhost:8080/"
        },
        "id": "f6lDcK2cDCyS",
        "outputId": "26b0c029-8db2-476f-d884-b4fcb321ee87"
      },
      "execution_count": null,
      "outputs": [
        {
          "output_type": "stream",
          "name": "stdout",
          "text": [
            "tf.Tensor([-2 -3  4  0 -3 -5], shape=(6,), dtype=int32)\n"
          ]
        }
      ]
    },
    {
      "cell_type": "code",
      "source": [
        "x_1 = tf.constant([5,3,6,6,4,6],dtype=tf.int32)\n",
        "x_2 = tf.constant([7,6,2,6,7,11],dtype=tf.int32)\n",
        "print (tf.divide(x_1 , x_2))"
      ],
      "metadata": {
        "colab": {
          "base_uri": "https://localhost:8080/"
        },
        "id": "f0-o2THNDF0R",
        "outputId": "341a67a4-8102-420a-c17d-bc4e90a64f9c"
      },
      "execution_count": null,
      "outputs": [
        {
          "output_type": "stream",
          "name": "stdout",
          "text": [
            "tf.Tensor([0.71428571 0.5        3.         1.         0.57142857 0.54545455], shape=(6,), dtype=float64)\n"
          ]
        }
      ]
    },
    {
      "cell_type": "code",
      "source": [
        "x_1 = tf.constant([5,3,6,6,4,6],dtype=tf.int32)\n",
        "x_2 = tf.constant([7,6,2,6,7,11],dtype=tf.int32)\n",
        "print (tf.math.divide_no_nan(x_1 , x_2))"
      ],
      "metadata": {
        "colab": {
          "base_uri": "https://localhost:8080/"
        },
        "id": "b22PvRjBDbI4",
        "outputId": "e35d1c41-8387-4d0e-8f3c-320919a6f82b"
      },
      "execution_count": null,
      "outputs": [
        {
          "output_type": "stream",
          "name": "stdout",
          "text": [
            "tf.Tensor([0.71428571 0.5        3.         1.         0.57142857 0.54545455], shape=(6,), dtype=float64)\n"
          ]
        }
      ]
    },
    {
      "cell_type": "code",
      "source": [
        "# broadcasting\n",
        "x_1 = tf.constant([5,3,6,6,4,6],dtype=tf.int32)\n",
        "x_2 = tf.constant([7],dtype=tf.int32)\n",
        "print (tf.math.add(x_1 , x_2))"
      ],
      "metadata": {
        "colab": {
          "base_uri": "https://localhost:8080/"
        },
        "id": "TVRKwAHXDyE_",
        "outputId": "8e3ee0ea-b7a8-4e12-d7bd-a0629fc75f0a"
      },
      "execution_count": null,
      "outputs": [
        {
          "output_type": "stream",
          "name": "stdout",
          "text": [
            "tf.Tensor([12 10 13 13 11 13], shape=(6,), dtype=int32)\n"
          ]
        }
      ]
    },
    {
      "cell_type": "code",
      "source": [
        "x_1 = tf.constant([5,3,6,6,4,6],dtype=tf.int32)\n",
        "x_2 = tf.constant([7],dtype=tf.int32)\n",
        "x_2_stretched = tf.constant([7,7,7,7,7,7])\n",
        "\n",
        "print (tf.math.add(x_1 , x_2))\n",
        "print (tf.math.add(x_1 , x_2_stretched))"
      ],
      "metadata": {
        "colab": {
          "base_uri": "https://localhost:8080/"
        },
        "id": "nqnvOQ18ESlb",
        "outputId": "571302dd-244e-4633-cfb6-e824528d584c"
      },
      "execution_count": null,
      "outputs": [
        {
          "output_type": "stream",
          "name": "stdout",
          "text": [
            "tf.Tensor([12 10 13 13 11 13], shape=(6,), dtype=int32)\n",
            "tf.Tensor([12 10 13 13 11 13], shape=(6,), dtype=int32)\n"
          ]
        }
      ]
    },
    {
      "cell_type": "code",
      "source": [
        "x_1 = tf.constant([[5,3,6,6,4,6],[2,2,2,2,2,2]],dtype=tf.int32)\n",
        "x_2 = tf.constant([7],dtype=tf.int32)\n",
        "x_2_stretched = tf.constant([7,7,7,7,7,7])\n",
        "\n",
        "print (tf.math.add(x_1 , x_2))\n",
        "print (tf.math.add(x_1 , x_2_stretched))"
      ],
      "metadata": {
        "colab": {
          "base_uri": "https://localhost:8080/"
        },
        "id": "EhUMpdcDFIy-",
        "outputId": "6a780e8f-829e-4f50-e8d5-03875405c563"
      },
      "execution_count": null,
      "outputs": [
        {
          "output_type": "stream",
          "name": "stdout",
          "text": [
            "tf.Tensor(\n",
            "[[12 10 13 13 11 13]\n",
            " [ 9  9  9  9  9  9]], shape=(2, 6), dtype=int32)\n",
            "tf.Tensor(\n",
            "[[12 10 13 13 11 13]\n",
            " [ 9  9  9  9  9  9]], shape=(2, 6), dtype=int32)\n"
          ]
        }
      ]
    },
    {
      "cell_type": "code",
      "source": [
        "x_1 = tf.constant ([[5,3,6,6,4,6],], dtype=tf.float32)\n",
        "x_2 = tf.constant ([[7],[5],[3]], dtype = tf.float32)\n",
        "\n",
        "print(x_1.shape)\n",
        "print(x_2.shape)\n",
        "\n",
        "print(tf.math.multiply(x_1,x_2))"
      ],
      "metadata": {
        "colab": {
          "base_uri": "https://localhost:8080/"
        },
        "id": "YuOc8kaIDSLf",
        "outputId": "3e86df93-3625-4f43-87a6-99a2ab058176"
      },
      "execution_count": null,
      "outputs": [
        {
          "output_type": "stream",
          "name": "stdout",
          "text": [
            "(1, 6)\n",
            "(3, 1)\n",
            "tf.Tensor(\n",
            "[[35. 21. 42. 42. 28. 42.]\n",
            " [25. 15. 30. 30. 20. 30.]\n",
            " [15.  9. 18. 18. 12. 18.]], shape=(3, 6), dtype=float32)\n"
          ]
        }
      ]
    },
    {
      "cell_type": "code",
      "source": [
        "x_argmax=tf.constant([[2,20,30,3,6],\n",
        "                      [3,11,16,1,8],\n",
        "                      [14,45,23,5,27]])\n",
        "\n",
        "print (x_argmax.shape)"
      ],
      "metadata": {
        "colab": {
          "base_uri": "https://localhost:8080/"
        },
        "id": "KDatf5OaF8we",
        "outputId": "2414e201-30a8-4813-d809-e621dc9714fd"
      },
      "execution_count": null,
      "outputs": [
        {
          "output_type": "stream",
          "name": "stdout",
          "text": [
            "(3, 5)\n"
          ]
        }
      ]
    },
    {
      "cell_type": "code",
      "source": [
        "# index of max val\n",
        "x_argmax=tf.constant ([200,120,300,300,6])\n",
        "print (tf.math.argmax(x_argmax))"
      ],
      "metadata": {
        "colab": {
          "base_uri": "https://localhost:8080/"
        },
        "id": "ycU35IJ0GESM",
        "outputId": "3a006c63-8005-4e3e-88aa-a838add82e0e"
      },
      "execution_count": null,
      "outputs": [
        {
          "output_type": "stream",
          "name": "stdout",
          "text": [
            "tf.Tensor(2, shape=(), dtype=int64)\n"
          ]
        }
      ]
    },
    {
      "cell_type": "code",
      "source": [
        "# index of miv val\n",
        "x_argmax=tf.constant ([200,120,300,300,6])\n",
        "print (tf.math.argmin(x_argmax))"
      ],
      "metadata": {
        "colab": {
          "base_uri": "https://localhost:8080/"
        },
        "id": "9KMZxJd3Gm2h",
        "outputId": "969c8654-f03a-48e0-b74f-5bf6c383df2b"
      },
      "execution_count": null,
      "outputs": [
        {
          "output_type": "stream",
          "name": "stdout",
          "text": [
            "tf.Tensor(4, shape=(), dtype=int64)\n"
          ]
        }
      ]
    },
    {
      "cell_type": "code",
      "source": [
        "x=tf.constant([[2,2],[3,3]])\n",
        "y=tf.constant([[3,0],[1,4]])\n",
        "tf.pow(x,y)"
      ],
      "metadata": {
        "colab": {
          "base_uri": "https://localhost:8080/"
        },
        "id": "xPo4hkdGrAlv",
        "outputId": "23fadcb3-292e-45af-8d1c-75f3c513bb6c"
      },
      "execution_count": 3,
      "outputs": [
        {
          "output_type": "execute_result",
          "data": {
            "text/plain": [
              "<tf.Tensor: shape=(2, 2), dtype=int32, numpy=\n",
              "array([[ 8,  1],\n",
              "       [ 3, 81]], dtype=int32)>"
            ]
          },
          "metadata": {},
          "execution_count": 3
        }
      ]
    },
    {
      "cell_type": "code",
      "source": [
        "tf.pow(tf.constant(2),tf.constant(3))"
      ],
      "metadata": {
        "colab": {
          "base_uri": "https://localhost:8080/"
        },
        "id": "dcrOcRzdtXUe",
        "outputId": "9cbd68b9-470f-49a4-894a-71c43d53c706"
      },
      "execution_count": 4,
      "outputs": [
        {
          "output_type": "execute_result",
          "data": {
            "text/plain": [
              "<tf.Tensor: shape=(), dtype=int32, numpy=8>"
            ]
          },
          "metadata": {},
          "execution_count": 4
        }
      ]
    },
    {
      "cell_type": "code",
      "source": [
        "#sum of all elements\n",
        "tensor_two_d=tf.constant([[1,2,0],\n",
        "                          [3,5,-1],\n",
        "                          [1,5,6],\n",
        "                          [2,3,8]])\n",
        "print(tensor_two_d.shape)\n",
        "print(tf.math.reduce_sum(tensor_two_d,axis=None,keepdims=False,name=None))"
      ],
      "metadata": {
        "colab": {
          "base_uri": "https://localhost:8080/"
        },
        "id": "Lqu0iX-sth5J",
        "outputId": "98f5fb04-40fb-4dc1-bfa0-96473fcb8e08"
      },
      "execution_count": 9,
      "outputs": [
        {
          "output_type": "stream",
          "name": "stdout",
          "text": [
            "(4, 3)\n",
            "tf.Tensor(35, shape=(), dtype=int32)\n"
          ]
        }
      ]
    },
    {
      "cell_type": "code",
      "source": [
        "print(tf.math.reduce_max(tensor_two_d,axis=None,keepdims=False,name=None))"
      ],
      "metadata": {
        "colab": {
          "base_uri": "https://localhost:8080/"
        },
        "id": "vYTD53Qi2--v",
        "outputId": "ad04108f-3c02-4f9a-fa5a-fd03827e2ff5"
      },
      "execution_count": 10,
      "outputs": [
        {
          "output_type": "stream",
          "name": "stdout",
          "text": [
            "tf.Tensor(8, shape=(), dtype=int32)\n"
          ]
        }
      ]
    },
    {
      "cell_type": "code",
      "source": [
        "print(tf.math.reduce_min(tensor_two_d,axis=None,keepdims=False,name=None))"
      ],
      "metadata": {
        "colab": {
          "base_uri": "https://localhost:8080/"
        },
        "id": "E3OHJIjN3Hil",
        "outputId": "3fe5f354-465a-42c9-89a4-a4897dfc64a8"
      },
      "execution_count": 11,
      "outputs": [
        {
          "output_type": "stream",
          "name": "stdout",
          "text": [
            "tf.Tensor(-1, shape=(), dtype=int32)\n"
          ]
        }
      ]
    },
    {
      "cell_type": "code",
      "source": [
        "#sum of columns\n",
        "tensor_two_d=tf.constant([[1,2,0],\n",
        "                          [3,5,-1],\n",
        "                          [1,5,6],\n",
        "                          [2,3,8]])\n",
        "print(tensor_two_d.shape)\n",
        "print(tf.math.reduce_sum(tensor_two_d,axis=0,keepdims=False,name=None))"
      ],
      "metadata": {
        "colab": {
          "base_uri": "https://localhost:8080/"
        },
        "id": "woChXG-s3Kim",
        "outputId": "d48b5e56-6499-4eec-857d-89bf69f1ccdf"
      },
      "execution_count": 12,
      "outputs": [
        {
          "output_type": "stream",
          "name": "stdout",
          "text": [
            "(4, 3)\n",
            "tf.Tensor([ 7 15 13], shape=(3,), dtype=int32)\n"
          ]
        }
      ]
    },
    {
      "cell_type": "code",
      "source": [
        "#sum of rows\n",
        "tensor_two_d=tf.constant([[1,2,0],\n",
        "                          [3,5,-1],\n",
        "                          [1,5,6],\n",
        "                          [2,3,8]])\n",
        "print(tensor_two_d.shape)\n",
        "print(tf.math.reduce_sum(tensor_two_d,axis=1,keepdims=False,name=None))"
      ],
      "metadata": {
        "colab": {
          "base_uri": "https://localhost:8080/"
        },
        "id": "DJG1iwDH3qst",
        "outputId": "8eb230ac-2b08-4ceb-81b2-218e4f752df1"
      },
      "execution_count": 13,
      "outputs": [
        {
          "output_type": "stream",
          "name": "stdout",
          "text": [
            "(4, 3)\n",
            "tf.Tensor([ 3  7 12 13], shape=(4,), dtype=int32)\n"
          ]
        }
      ]
    },
    {
      "cell_type": "code",
      "source": [
        "tensor_two_d=tf.constant([[2,2,0],\n",
        "                          [2,5,-1],\n",
        "                          [2,5,6],\n",
        "                          [2,3,8]])\n",
        "print(tensor_two_d.shape)\n",
        "print(tf.math.reduce_mean(tensor_two_d,axis=0,keepdims=False,name=None))"
      ],
      "metadata": {
        "colab": {
          "base_uri": "https://localhost:8080/"
        },
        "id": "C0kBM4uT3zBb",
        "outputId": "4f0c8188-9a79-4439-8e2f-b73614f4976e"
      },
      "execution_count": 16,
      "outputs": [
        {
          "output_type": "stream",
          "name": "stdout",
          "text": [
            "(4, 3)\n",
            "tf.Tensor([2 3 3], shape=(3,), dtype=int32)\n"
          ]
        }
      ]
    },
    {
      "cell_type": "code",
      "source": [
        "tensor_two_d=tf.constant([[2,2,0],\n",
        "                          [2,5,-1],\n",
        "                          [2,5,6],\n",
        "                          [2,3,8]], dtype= tf.float16)\n",
        "print(tensor_two_d.shape)\n",
        "print(tf.math.reduce_mean(tensor_two_d,axis=0,keepdims=False,name=None))"
      ],
      "metadata": {
        "colab": {
          "base_uri": "https://localhost:8080/"
        },
        "id": "Rj2XWFez4Fd9",
        "outputId": "d3e8ae6a-5ec5-442d-db21-e3413f2479fb"
      },
      "execution_count": 18,
      "outputs": [
        {
          "output_type": "stream",
          "name": "stdout",
          "text": [
            "(4, 3)\n",
            "tf.Tensor([2.   3.75 3.25], shape=(3,), dtype=float16)\n"
          ]
        }
      ]
    },
    {
      "cell_type": "code",
      "source": [
        "print(tf.math.reduce_std(tensor_two_d,axis=0,keepdims=False,name=None))"
      ],
      "metadata": {
        "colab": {
          "base_uri": "https://localhost:8080/"
        },
        "id": "SuL2pEnd4XUj",
        "outputId": "49f645f6-b546-4015-bd87-969cf0dd7e58"
      },
      "execution_count": 19,
      "outputs": [
        {
          "output_type": "stream",
          "name": "stdout",
          "text": [
            "tf.Tensor([0.    1.299 3.832], shape=(3,), dtype=float16)\n"
          ]
        }
      ]
    },
    {
      "cell_type": "code",
      "source": [
        "#top val\n",
        "tf.math.top_k(tensor_two_d,k=1)"
      ],
      "metadata": {
        "colab": {
          "base_uri": "https://localhost:8080/"
        },
        "id": "lhaGrHGSw2YI",
        "outputId": "7afca19d-7503-42e0-b6f9-ab5c8c7a6107"
      },
      "execution_count": 20,
      "outputs": [
        {
          "output_type": "execute_result",
          "data": {
            "text/plain": [
              "TopKV2(values=<tf.Tensor: shape=(4, 1), dtype=float16, numpy=\n",
              "array([[2.],\n",
              "       [5.],\n",
              "       [6.],\n",
              "       [8.]], dtype=float16)>, indices=<tf.Tensor: shape=(4, 1), dtype=int32, numpy=\n",
              "array([[0],\n",
              "       [1],\n",
              "       [2],\n",
              "       [2]], dtype=int32)>)"
            ]
          },
          "metadata": {},
          "execution_count": 20
        }
      ]
    },
    {
      "cell_type": "code",
      "source": [
        "# 2 top val\n",
        "tf.math.top_k(tensor_two_d,k=2)"
      ],
      "metadata": {
        "colab": {
          "base_uri": "https://localhost:8080/"
        },
        "id": "mPHXHMoI41DG",
        "outputId": "a9e948c8-f483-4297-df87-f35693155565"
      },
      "execution_count": 21,
      "outputs": [
        {
          "output_type": "execute_result",
          "data": {
            "text/plain": [
              "TopKV2(values=<tf.Tensor: shape=(4, 2), dtype=float16, numpy=\n",
              "array([[2., 2.],\n",
              "       [5., 2.],\n",
              "       [6., 5.],\n",
              "       [8., 3.]], dtype=float16)>, indices=<tf.Tensor: shape=(4, 2), dtype=int32, numpy=\n",
              "array([[0, 1],\n",
              "       [1, 0],\n",
              "       [2, 1],\n",
              "       [2, 1]], dtype=int32)>)"
            ]
          },
          "metadata": {},
          "execution_count": 21
        }
      ]
    },
    {
      "cell_type": "code",
      "source": [
        "#columns of first matrix must be equal to the rows of second matrix\n",
        "x_1 = tf.constant ([[1,2,0],\n",
        "                    [3,5,-1]])\n",
        "x_2 = tf.constant ([[1,2,0,2],\n",
        "                    [3,5,-1,2],\n",
        "                    [4,5,6,0]])\n",
        "\n",
        "tf.linalg.matmul(\n",
        "x_1,x_2,transpose_a=False,transpose_b=False, adjoint_a=False, adjoint_b=False,\n",
        "a_is_sparse=False, b_is_sparse=False, output_type=None)"
      ],
      "metadata": {
        "colab": {
          "base_uri": "https://localhost:8080/"
        },
        "id": "F-TSZatbw3mL",
        "outputId": "5f4a05a0-95b4-40d8-fbd3-f2b1dfe50fd3"
      },
      "execution_count": 22,
      "outputs": [
        {
          "output_type": "execute_result",
          "data": {
            "text/plain": [
              "<tf.Tensor: shape=(2, 4), dtype=int32, numpy=\n",
              "array([[  7,  12,  -2,   6],\n",
              "       [ 14,  26, -11,  16]], dtype=int32)>"
            ]
          },
          "metadata": {},
          "execution_count": 22
        }
      ]
    },
    {
      "cell_type": "code",
      "source": [
        "print(x_1@x_2)"
      ],
      "metadata": {
        "colab": {
          "base_uri": "https://localhost:8080/"
        },
        "id": "HUjQ3l8pw8wC",
        "outputId": "73f6c585-b636-46de-d5b6-6ebc816f1184"
      },
      "execution_count": 23,
      "outputs": [
        {
          "output_type": "stream",
          "name": "stdout",
          "text": [
            "tf.Tensor(\n",
            "[[  7  12  -2   6]\n",
            " [ 14  26 -11  16]], shape=(2, 4), dtype=int32)\n"
          ]
        }
      ]
    },
    {
      "cell_type": "code",
      "source": [
        "tf.transpose(x_1)"
      ],
      "metadata": {
        "colab": {
          "base_uri": "https://localhost:8080/"
        },
        "id": "pm0Tbm8fxE3Y",
        "outputId": "68bf7e8a-21dd-4b55-9c1e-700bc6847bba"
      },
      "execution_count": 24,
      "outputs": [
        {
          "output_type": "execute_result",
          "data": {
            "text/plain": [
              "<tf.Tensor: shape=(3, 2), dtype=int32, numpy=\n",
              "array([[ 1,  3],\n",
              "       [ 2,  5],\n",
              "       [ 0, -1]], dtype=int32)>"
            ]
          },
          "metadata": {},
          "execution_count": 24
        }
      ]
    },
    {
      "cell_type": "code",
      "source": [
        "tf.transpose(x_2)"
      ],
      "metadata": {
        "colab": {
          "base_uri": "https://localhost:8080/"
        },
        "id": "eQeB9kQl6YUF",
        "outputId": "e99ec051-f09d-4814-9247-069f5d3cf6e0"
      },
      "execution_count": 25,
      "outputs": [
        {
          "output_type": "execute_result",
          "data": {
            "text/plain": [
              "<tf.Tensor: shape=(4, 3), dtype=int32, numpy=\n",
              "array([[ 1,  3,  4],\n",
              "       [ 2,  5,  5],\n",
              "       [ 0, -1,  6],\n",
              "       [ 2,  2,  0]], dtype=int32)>"
            ]
          },
          "metadata": {},
          "execution_count": 25
        }
      ]
    },
    {
      "cell_type": "code",
      "source": [
        "#transpose_b=True => multiply with transpose of the second matrix\n",
        "\n",
        "x_1= tf.constant ([[1,2,0]])\n",
        "\n",
        "x_2= tf.constant ([[1,2],\n",
        "                  [3,5],\n",
        "                  [4,5]])\n",
        "\n",
        "x_3=tf.constant ([[1,2,0,2],\n",
        "                 [3,5,-1,2]])\n",
        "\n",
        "print(x_1.shape, x_2.shape, x_3.shape, tf.transpose(x_2).shape)"
      ],
      "metadata": {
        "colab": {
          "base_uri": "https://localhost:8080/"
        },
        "id": "y6VvYli_xK2H",
        "outputId": "a085293d-1b0f-4e2f-e0a0-cb3c01393743"
      },
      "execution_count": 30,
      "outputs": [
        {
          "output_type": "stream",
          "name": "stdout",
          "text": [
            "(1, 3) (3, 2) (2, 4) (2, 3)\n"
          ]
        }
      ]
    },
    {
      "cell_type": "code",
      "source": [
        "print(tf.transpose(x_3)@tf.transpose(x_2))"
      ],
      "metadata": {
        "colab": {
          "base_uri": "https://localhost:8080/"
        },
        "id": "2gv_7O3SxMFj",
        "outputId": "c7276c49-c2bd-496b-9ab8-d128f827d6ef"
      },
      "execution_count": 29,
      "outputs": [
        {
          "output_type": "stream",
          "name": "stdout",
          "text": [
            "tf.Tensor(\n",
            "[[ 7 18 19]\n",
            " [12 31 33]\n",
            " [-2 -5 -5]\n",
            " [ 6 16 18]], shape=(4, 3), dtype=int32)\n"
          ]
        }
      ]
    },
    {
      "cell_type": "code",
      "source": [
        "x_1 = tf.constant([[[1,2],\n",
        "                    [3,5]],\n",
        "                   [[10,0],\n",
        "                    [1,2]],\n",
        "                   [[5,0],\n",
        "                    [2,0]]])\n",
        "\n",
        "x_2 = tf.constant([[[5,1,4],\n",
        "                    [34,15,1]],\n",
        "                   [[1,2,2],\n",
        "                    [5,3,2]],\n",
        "                   [[2,2,3],\n",
        "                    [1,1,1]]])\n",
        "\n",
        "print(tf.linalg.matmul(x_1, x_2))"
      ],
      "metadata": {
        "colab": {
          "base_uri": "https://localhost:8080/"
        },
        "id": "1UkJGhSJ9Aut",
        "outputId": "af2eb6bb-9e98-4e7c-9150-e5682cb5db73"
      },
      "execution_count": 32,
      "outputs": [
        {
          "output_type": "stream",
          "name": "stdout",
          "text": [
            "tf.Tensor(\n",
            "[[[ 73  31   6]\n",
            "  [185  78  17]]\n",
            "\n",
            " [[ 10  20  20]\n",
            "  [ 11   8   6]]\n",
            "\n",
            " [[ 10  10  15]\n",
            "  [  4   4   6]]], shape=(3, 2, 3), dtype=int32)\n"
          ]
        }
      ]
    },
    {
      "cell_type": "code",
      "source": [
        "x_1 = tf.constant([[[10,0],\n",
        "                    [1,2]]])\n",
        "\n",
        "x_2 = tf.constant([\n",
        "                   [[1,2,2],\n",
        "                    [5,3,2]],\n",
        "                  ])\n",
        "\n",
        "print(tf.linalg.matmul(x_1, x_2))"
      ],
      "metadata": {
        "colab": {
          "base_uri": "https://localhost:8080/"
        },
        "id": "09TG7fYV_B0w",
        "outputId": "ccea1167-ee74-42ec-93a7-b837f462ac6b"
      },
      "execution_count": 35,
      "outputs": [
        {
          "output_type": "stream",
          "name": "stdout",
          "text": [
            "tf.Tensor(\n",
            "[[[10 20 20]\n",
            "  [11  8  6]]], shape=(1, 2, 3), dtype=int32)\n"
          ]
        }
      ]
    },
    {
      "cell_type": "code",
      "source": [
        "x_1 = tf.constant([[[0,0],\n",
        "                    [0,2]]])\n",
        "\n",
        "x_2 = tf.constant([\n",
        "                   [[1,0,0],\n",
        "                    [0,0,0]],\n",
        "                  ])\n",
        "\n",
        "print(tf.linalg.matmul(x_1, x_2))"
      ],
      "metadata": {
        "colab": {
          "base_uri": "https://localhost:8080/"
        },
        "id": "DdOP47Ap_zMD",
        "outputId": "2e88c58b-596e-486e-dbc5-e7c8c5db4f86"
      },
      "execution_count": 36,
      "outputs": [
        {
          "output_type": "stream",
          "name": "stdout",
          "text": [
            "tf.Tensor(\n",
            "[[[0 0 0]\n",
            "  [0 0 0]]], shape=(1, 2, 3), dtype=int32)\n"
          ]
        }
      ]
    },
    {
      "cell_type": "code",
      "source": [
        "tensor_two_d=tf.constant([[1,-2,0],\n",
        "                          [3,5,100],\n",
        "                          [1,5,6],\n",
        "                          [2,3,8]],dtype=tf.float16)\n",
        "\n",
        "tf.linalg.band_part(tensor_two_d,0,0)"
      ],
      "metadata": {
        "colab": {
          "base_uri": "https://localhost:8080/"
        },
        "id": "PoilfkuqAamD",
        "outputId": "f29451f4-b77f-49c3-ae19-76f265ed9516"
      },
      "execution_count": 38,
      "outputs": [
        {
          "output_type": "execute_result",
          "data": {
            "text/plain": [
              "<tf.Tensor: shape=(4, 3), dtype=float16, numpy=\n",
              "array([[1., 0., 0.],\n",
              "       [0., 5., 0.],\n",
              "       [0., 0., 6.],\n",
              "       [0., 0., 0.]], dtype=float16)>"
            ]
          },
          "metadata": {},
          "execution_count": 38
        }
      ]
    },
    {
      "cell_type": "code",
      "source": [
        "tensor_two_d=tf.constant([[1,-2,0],\n",
        "                          [3,5,100],\n",
        "                          [1,5,6],\n",
        "                          [2,3,8]],dtype=tf.float16)\n",
        "\n",
        "tensor_out_d=tf.constant([[1,0,0],\n",
        "                          [0,5,0],\n",
        "                          [0,0,6],\n",
        "                          [0,0,0]],dtype=tf.float16)\n",
        "\n",
        "\n",
        "tf.linalg.band_part(tensor_two_d,0,0)"
      ],
      "metadata": {
        "colab": {
          "base_uri": "https://localhost:8080/"
        },
        "id": "ulNZf3wwCD17",
        "outputId": "13fad87d-f72d-40e7-ba58-c7bf4adea8b5"
      },
      "execution_count": 40,
      "outputs": [
        {
          "output_type": "execute_result",
          "data": {
            "text/plain": [
              "<tf.Tensor: shape=(4, 3), dtype=float16, numpy=\n",
              "array([[1., 0., 0.],\n",
              "       [0., 5., 0.],\n",
              "       [0., 0., 6.],\n",
              "       [0., 0., 0.]], dtype=float16)>"
            ]
          },
          "metadata": {},
          "execution_count": 40
        }
      ]
    },
    {
      "cell_type": "code",
      "source": [
        "tensor_two_d=tf.constant([[1,-2,0],\n",
        "                          [3,5,100],\n",
        "                          [1,5,6],\n",
        "                          [2,3,8]],dtype=tf.float16)\n",
        "\n",
        "tensor_out_d=tf.constant([[1,0,0],\n",
        "                          [0,5,0],\n",
        "                          [0,0,6],\n",
        "                          [0,0,0]],dtype=tf.float16)\n",
        "\n",
        "\n",
        "tf.linalg.band_part(tensor_two_d,-1,0)"
      ],
      "metadata": {
        "colab": {
          "base_uri": "https://localhost:8080/"
        },
        "id": "-a-0dkxTCXtU",
        "outputId": "c0cf5f25-ea88-481d-970d-7106e6307cb1"
      },
      "execution_count": 42,
      "outputs": [
        {
          "output_type": "execute_result",
          "data": {
            "text/plain": [
              "<tf.Tensor: shape=(4, 3), dtype=float16, numpy=\n",
              "array([[1., 0., 0.],\n",
              "       [3., 5., 0.],\n",
              "       [1., 5., 6.],\n",
              "       [2., 3., 8.]], dtype=float16)>"
            ]
          },
          "metadata": {},
          "execution_count": 42
        }
      ]
    },
    {
      "cell_type": "code",
      "source": [
        "tensor_two_d=tf.constant([[1,-2,0],\n",
        "                          [3,5,100],\n",
        "                          [1,5,6],\n",
        "                          [2,3,8]],dtype=tf.float16)\n",
        "\n",
        "tensor_out_d=tf.constant([[1,0,0],\n",
        "                          [0,5,0],\n",
        "                          [0,0,6],\n",
        "                          [0,0,0]],dtype=tf.float16)\n",
        "\n",
        "\n",
        "tf.linalg.band_part(tensor_two_d,0,-1)"
      ],
      "metadata": {
        "colab": {
          "base_uri": "https://localhost:8080/"
        },
        "id": "akunaqJnCtFV",
        "outputId": "14ae94ff-f5aa-4475-e04f-ee7b3f13b274"
      },
      "execution_count": 43,
      "outputs": [
        {
          "output_type": "execute_result",
          "data": {
            "text/plain": [
              "<tf.Tensor: shape=(4, 3), dtype=float16, numpy=\n",
              "array([[  1.,  -2.,   0.],\n",
              "       [  0.,   5., 100.],\n",
              "       [  0.,   0.,   6.],\n",
              "       [  0.,   0.,   0.]], dtype=float16)>"
            ]
          },
          "metadata": {},
          "execution_count": 43
        }
      ]
    },
    {
      "cell_type": "code",
      "source": [
        "tensor_two_d_m_n=tf.constant([[0,-1,-2],\n",
        "                              [1,0,-1],\n",
        "                              [2,1,0],\n",
        "                              [3,2,1]],dtype=tf.float16)\n",
        "\n",
        "tensor_out_d_n_m=tf.constant([[0,1,2],\n",
        "                              [-1,0,1],\n",
        "                              [-2,-1,0],\n",
        "                              [-3,-2,-1]],dtype=tf.float16)"
      ],
      "metadata": {
        "id": "8k1cWVfBxUiz"
      },
      "execution_count": 45,
      "outputs": []
    },
    {
      "cell_type": "code",
      "source": [
        "tensor_two_d=tf.constant([[1,-2,0],\n",
        "                          [3,5,100],\n",
        "                          [1,5,6]],dtype=tf.float32)\n",
        "\n",
        "tf.linalg.inv(tensor_two_d)"
      ],
      "metadata": {
        "colab": {
          "base_uri": "https://localhost:8080/"
        },
        "id": "aZXwEjCTEyRX",
        "outputId": "b990c3ce-9eeb-43f4-8c99-f5305965fa2e"
      },
      "execution_count": 47,
      "outputs": [
        {
          "output_type": "execute_result",
          "data": {
            "text/plain": [
              "<tf.Tensor: shape=(3, 3), dtype=float32, numpy=\n",
              "array([[ 0.7413249 , -0.01892742,  0.3154574 ],\n",
              "       [-0.12933755, -0.00946371,  0.1577287 ],\n",
              "       [-0.01577287,  0.01104101, -0.01735016]], dtype=float32)>"
            ]
          },
          "metadata": {},
          "execution_count": 47
        }
      ]
    },
    {
      "cell_type": "code",
      "source": [
        "tensor_two_d=tf.constant([[1,-2,0],\n",
        "                          [3,5,100],\n",
        "                          [1,5,6]],dtype=tf.float32)\n",
        "\n",
        "tensor_two_d_inv=tf.linalg.inv(tensor_two_d)"
      ],
      "metadata": {
        "id": "fV-e5w6mD82z"
      },
      "execution_count": 46,
      "outputs": []
    },
    {
      "cell_type": "code",
      "source": [
        "tensor_two_d@tensor_two_d_inv"
      ],
      "metadata": {
        "colab": {
          "base_uri": "https://localhost:8080/"
        },
        "id": "1JTZ__ExE8Nj",
        "outputId": "0085f708-037b-4da2-f8ab-3a8a5073e51b"
      },
      "execution_count": 48,
      "outputs": [
        {
          "output_type": "execute_result",
          "data": {
            "text/plain": [
              "<tf.Tensor: shape=(3, 3), dtype=float32, numpy=\n",
              "array([[ 1.0000000e+00,  7.4505806e-09,  0.0000000e+00],\n",
              "       [ 1.6391277e-07,  1.0000000e+00,  4.4703484e-08],\n",
              "       [-5.2154064e-08,  7.4505806e-08,  1.0000000e+00]], dtype=float32)>"
            ]
          },
          "metadata": {},
          "execution_count": 48
        }
      ]
    }
  ]
}